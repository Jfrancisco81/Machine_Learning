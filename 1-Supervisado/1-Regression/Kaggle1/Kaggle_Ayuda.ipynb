{
 "cells": [
  {
   "cell_type": "markdown",
   "metadata": {},
   "source": [
    "#### Aquí encontrarás todo lo que necesitas saber: https://www.kaggle.com/t/ab8726f0cfc84544abbae69a6be88071"
   ]
  },
  {
   "cell_type": "markdown",
   "metadata": {},
   "source": [
    "## Librerias"
   ]
  },
  {
   "cell_type": "code",
   "execution_count": 1,
   "metadata": {},
   "outputs": [],
   "source": [
    "import pandas as pd\n",
    "import numpy as np\n",
    "import re\n",
    "import urllib.request\n",
    "from PIL import Image"
   ]
  },
  {
   "cell_type": "markdown",
   "metadata": {},
   "source": [
    "## Data"
   ]
  },
  {
   "cell_type": "code",
   "execution_count": 57,
   "metadata": {},
   "outputs": [],
   "source": [
    "### Para que funcione necesitas bajarte los archivos de datos de Kaggle \n",
    "train = pd.read_csv(\"data/train.csv\")\n"
   ]
  },
  {
   "cell_type": "markdown",
   "metadata": {},
   "source": [
    "## Data exploration"
   ]
  },
  {
   "cell_type": "code",
   "execution_count": 54,
   "metadata": {},
   "outputs": [
    {
     "name": "stdout",
     "output_type": "stream",
     "text": [
      "<class 'pandas.core.frame.DataFrame'>\n",
      "RangeIndex: 912 entries, 0 to 911\n",
      "Data columns (total 13 columns):\n",
      " #   Column            Non-Null Count  Dtype  \n",
      "---  ------            --------------  -----  \n",
      " 0   laptop_ID         912 non-null    int64  \n",
      " 1   Company           912 non-null    object \n",
      " 2   Product           912 non-null    object \n",
      " 3   TypeName          912 non-null    object \n",
      " 4   Inches            912 non-null    float64\n",
      " 5   ScreenResolution  912 non-null    object \n",
      " 6   Cpu               912 non-null    object \n",
      " 7   Ram               912 non-null    object \n",
      " 8   Memory            912 non-null    object \n",
      " 9   Gpu               912 non-null    object \n",
      " 10  OpSys             912 non-null    object \n",
      " 11  Weight            912 non-null    object \n",
      " 12  Price_euros       912 non-null    float64\n",
      "dtypes: float64(2), int64(1), object(10)\n",
      "memory usage: 92.8+ KB\n"
     ]
    }
   ],
   "source": [
    "train.info()"
   ]
  },
  {
   "cell_type": "code",
   "execution_count": null,
   "metadata": {},
   "outputs": [],
   "source": []
  },
  {
   "cell_type": "code",
   "execution_count": 4,
   "metadata": {},
   "outputs": [
    {
     "data": {
      "text/html": [
       "<div>\n",
       "<style scoped>\n",
       "    .dataframe tbody tr th:only-of-type {\n",
       "        vertical-align: middle;\n",
       "    }\n",
       "\n",
       "    .dataframe tbody tr th {\n",
       "        vertical-align: top;\n",
       "    }\n",
       "\n",
       "    .dataframe thead th {\n",
       "        text-align: right;\n",
       "    }\n",
       "</style>\n",
       "<table border=\"1\" class=\"dataframe\">\n",
       "  <thead>\n",
       "    <tr style=\"text-align: right;\">\n",
       "      <th></th>\n",
       "      <th>laptop_ID</th>\n",
       "      <th>Company</th>\n",
       "      <th>Product</th>\n",
       "      <th>TypeName</th>\n",
       "      <th>Inches</th>\n",
       "      <th>ScreenResolution</th>\n",
       "      <th>Cpu</th>\n",
       "      <th>Ram</th>\n",
       "      <th>Memory</th>\n",
       "      <th>Gpu</th>\n",
       "      <th>OpSys</th>\n",
       "      <th>Weight</th>\n",
       "      <th>Price_euros</th>\n",
       "    </tr>\n",
       "  </thead>\n",
       "  <tbody>\n",
       "    <tr>\n",
       "      <th>0</th>\n",
       "      <td>1104</td>\n",
       "      <td>Acer</td>\n",
       "      <td>Aspire ES1-523</td>\n",
       "      <td>Notebook</td>\n",
       "      <td>15.6</td>\n",
       "      <td>1366x768</td>\n",
       "      <td>AMD A8-Series 7410 2.2GHz</td>\n",
       "      <td>4GB</td>\n",
       "      <td>500GB HDD</td>\n",
       "      <td>AMD Radeon R5</td>\n",
       "      <td>Windows 10</td>\n",
       "      <td>2.4kg</td>\n",
       "      <td>387.0</td>\n",
       "    </tr>\n",
       "    <tr>\n",
       "      <th>1</th>\n",
       "      <td>114</td>\n",
       "      <td>Dell</td>\n",
       "      <td>XPS 13</td>\n",
       "      <td>Ultrabook</td>\n",
       "      <td>13.3</td>\n",
       "      <td>Quad HD+ / Touchscreen 3200x1800</td>\n",
       "      <td>Intel Core i7 7560U 2.4GHz</td>\n",
       "      <td>8GB</td>\n",
       "      <td>256GB SSD</td>\n",
       "      <td>Intel Iris Plus Graphics 640</td>\n",
       "      <td>Windows 10</td>\n",
       "      <td>1.23kg</td>\n",
       "      <td>1379.0</td>\n",
       "    </tr>\n",
       "    <tr>\n",
       "      <th>2</th>\n",
       "      <td>172</td>\n",
       "      <td>Acer</td>\n",
       "      <td>Aspire A517-51G</td>\n",
       "      <td>Notebook</td>\n",
       "      <td>17.3</td>\n",
       "      <td>IPS Panel Full HD 1920x1080</td>\n",
       "      <td>Intel Core i5 8250U 1.6GHz</td>\n",
       "      <td>8GB</td>\n",
       "      <td>256GB SSD</td>\n",
       "      <td>Nvidia GeForce MX150</td>\n",
       "      <td>Windows 10</td>\n",
       "      <td>3kg</td>\n",
       "      <td>854.0</td>\n",
       "    </tr>\n",
       "    <tr>\n",
       "      <th>3</th>\n",
       "      <td>918</td>\n",
       "      <td>HP</td>\n",
       "      <td>Elitebook 820</td>\n",
       "      <td>Netbook</td>\n",
       "      <td>12.5</td>\n",
       "      <td>Full HD 1920x1080</td>\n",
       "      <td>Intel Core i7 7500U 2.7GHz</td>\n",
       "      <td>8GB</td>\n",
       "      <td>512GB SSD</td>\n",
       "      <td>Intel HD Graphics 620</td>\n",
       "      <td>Windows 10</td>\n",
       "      <td>1.26kg</td>\n",
       "      <td>1483.0</td>\n",
       "    </tr>\n",
       "    <tr>\n",
       "      <th>4</th>\n",
       "      <td>447</td>\n",
       "      <td>Lenovo</td>\n",
       "      <td>IdeaPad 320-15AST</td>\n",
       "      <td>Notebook</td>\n",
       "      <td>17.3</td>\n",
       "      <td>1600x900</td>\n",
       "      <td>AMD A6-Series 9220 2.5GHz</td>\n",
       "      <td>8GB</td>\n",
       "      <td>1TB HDD</td>\n",
       "      <td>AMD Radeon R4</td>\n",
       "      <td>Windows 10</td>\n",
       "      <td>2.8kg</td>\n",
       "      <td>519.0</td>\n",
       "    </tr>\n",
       "  </tbody>\n",
       "</table>\n",
       "</div>"
      ],
      "text/plain": [
       "   laptop_ID Company            Product   TypeName  Inches  \\\n",
       "0       1104    Acer     Aspire ES1-523   Notebook    15.6   \n",
       "1        114    Dell             XPS 13  Ultrabook    13.3   \n",
       "2        172    Acer    Aspire A517-51G   Notebook    17.3   \n",
       "3        918      HP      Elitebook 820    Netbook    12.5   \n",
       "4        447  Lenovo  IdeaPad 320-15AST   Notebook    17.3   \n",
       "\n",
       "                   ScreenResolution                         Cpu  Ram  \\\n",
       "0                          1366x768   AMD A8-Series 7410 2.2GHz  4GB   \n",
       "1  Quad HD+ / Touchscreen 3200x1800  Intel Core i7 7560U 2.4GHz  8GB   \n",
       "2       IPS Panel Full HD 1920x1080  Intel Core i5 8250U 1.6GHz  8GB   \n",
       "3                 Full HD 1920x1080  Intel Core i7 7500U 2.7GHz  8GB   \n",
       "4                          1600x900   AMD A6-Series 9220 2.5GHz  8GB   \n",
       "\n",
       "      Memory                           Gpu       OpSys  Weight  Price_euros  \n",
       "0  500GB HDD                 AMD Radeon R5  Windows 10   2.4kg        387.0  \n",
       "1  256GB SSD  Intel Iris Plus Graphics 640  Windows 10  1.23kg       1379.0  \n",
       "2  256GB SSD          Nvidia GeForce MX150  Windows 10     3kg        854.0  \n",
       "3  512GB SSD         Intel HD Graphics 620  Windows 10  1.26kg       1483.0  \n",
       "4    1TB HDD                 AMD Radeon R4  Windows 10   2.8kg        519.0  "
      ]
     },
     "execution_count": 4,
     "metadata": {},
     "output_type": "execute_result"
    }
   ],
   "source": [
    "train.head()"
   ]
  },
  {
   "cell_type": "code",
   "execution_count": 55,
   "metadata": {},
   "outputs": [],
   "source": []
  },
  {
   "cell_type": "markdown",
   "metadata": {},
   "source": [
    "## Data processing"
   ]
  },
  {
   "cell_type": "code",
   "execution_count": 137,
   "metadata": {},
   "outputs": [],
   "source": [
    "# Hacemos una copia del df\n",
    "train_copy = train.copy()"
   ]
  },
  {
   "cell_type": "code",
   "execution_count": 138,
   "metadata": {},
   "outputs": [],
   "source": [
    "train_copy = train_copy[~train_copy.apply(lambda row: row.astype(str).str.contains('Netbook').any(), axis=1)]\n"
   ]
  },
  {
   "cell_type": "code",
   "execution_count": 139,
   "metadata": {},
   "outputs": [
    {
     "data": {
      "text/html": [
       "<div>\n",
       "<style scoped>\n",
       "    .dataframe tbody tr th:only-of-type {\n",
       "        vertical-align: middle;\n",
       "    }\n",
       "\n",
       "    .dataframe tbody tr th {\n",
       "        vertical-align: top;\n",
       "    }\n",
       "\n",
       "    .dataframe thead th {\n",
       "        text-align: right;\n",
       "    }\n",
       "</style>\n",
       "<table border=\"1\" class=\"dataframe\">\n",
       "  <thead>\n",
       "    <tr style=\"text-align: right;\">\n",
       "      <th></th>\n",
       "      <th>laptop_ID</th>\n",
       "      <th>Company</th>\n",
       "      <th>Product</th>\n",
       "      <th>TypeName</th>\n",
       "      <th>Inches</th>\n",
       "      <th>ScreenResolution</th>\n",
       "      <th>Cpu</th>\n",
       "      <th>Ram</th>\n",
       "      <th>Memory</th>\n",
       "      <th>Gpu</th>\n",
       "      <th>OpSys</th>\n",
       "      <th>Weight</th>\n",
       "      <th>Price_euros</th>\n",
       "    </tr>\n",
       "  </thead>\n",
       "  <tbody>\n",
       "  </tbody>\n",
       "</table>\n",
       "</div>"
      ],
      "text/plain": [
       "Empty DataFrame\n",
       "Columns: [laptop_ID, Company, Product, TypeName, Inches, ScreenResolution, Cpu, Ram, Memory, Gpu, OpSys, Weight, Price_euros]\n",
       "Index: []"
      ]
     },
     "execution_count": 139,
     "metadata": {},
     "output_type": "execute_result"
    }
   ],
   "source": [
    "# Vemos cuantos valores nulos tenemos \n",
    "train_copy[train_copy.isnull().any(axis=1)]"
   ]
  },
  {
   "cell_type": "code",
   "execution_count": 140,
   "metadata": {},
   "outputs": [],
   "source": [
    "train_copy.drop(['TypeName','Product','Company'],axis=1, inplace=True)"
   ]
  },
  {
   "cell_type": "code",
   "execution_count": 62,
   "metadata": {},
   "outputs": [
    {
     "name": "stdout",
     "output_type": "stream",
     "text": [
      "<class 'pandas.core.frame.DataFrame'>\n",
      "Int64Index: 893 entries, 0 to 911\n",
      "Data columns (total 10 columns):\n",
      " #   Column            Non-Null Count  Dtype  \n",
      "---  ------            --------------  -----  \n",
      " 0   laptop_ID         893 non-null    int64  \n",
      " 1   Inches            893 non-null    float64\n",
      " 2   ScreenResolution  893 non-null    object \n",
      " 3   Cpu               893 non-null    object \n",
      " 4   Ram               893 non-null    object \n",
      " 5   Memory            893 non-null    object \n",
      " 6   Gpu               893 non-null    object \n",
      " 7   OpSys             893 non-null    object \n",
      " 8   Weight            893 non-null    object \n",
      " 9   Price_euros       893 non-null    float64\n",
      "dtypes: float64(2), int64(1), object(7)\n",
      "memory usage: 76.7+ KB\n"
     ]
    }
   ],
   "source": [
    "train_copy.info()"
   ]
  },
  {
   "cell_type": "code",
   "execution_count": 63,
   "metadata": {},
   "outputs": [
    {
     "data": {
      "text/html": [
       "<div>\n",
       "<style scoped>\n",
       "    .dataframe tbody tr th:only-of-type {\n",
       "        vertical-align: middle;\n",
       "    }\n",
       "\n",
       "    .dataframe tbody tr th {\n",
       "        vertical-align: top;\n",
       "    }\n",
       "\n",
       "    .dataframe thead th {\n",
       "        text-align: right;\n",
       "    }\n",
       "</style>\n",
       "<table border=\"1\" class=\"dataframe\">\n",
       "  <thead>\n",
       "    <tr style=\"text-align: right;\">\n",
       "      <th></th>\n",
       "      <th>laptop_ID</th>\n",
       "      <th>Inches</th>\n",
       "      <th>ScreenResolution</th>\n",
       "      <th>Cpu</th>\n",
       "      <th>Ram</th>\n",
       "      <th>Memory</th>\n",
       "      <th>Gpu</th>\n",
       "      <th>OpSys</th>\n",
       "      <th>Weight</th>\n",
       "      <th>Price_euros</th>\n",
       "    </tr>\n",
       "  </thead>\n",
       "  <tbody>\n",
       "    <tr>\n",
       "      <th>0</th>\n",
       "      <td>1104</td>\n",
       "      <td>15.6</td>\n",
       "      <td>1366x768</td>\n",
       "      <td>AMD A8-Series 7410 2.2GHz</td>\n",
       "      <td>4GB</td>\n",
       "      <td>500GB HDD</td>\n",
       "      <td>AMD Radeon R5</td>\n",
       "      <td>Windows 10</td>\n",
       "      <td>2.4kg</td>\n",
       "      <td>387.0</td>\n",
       "    </tr>\n",
       "    <tr>\n",
       "      <th>1</th>\n",
       "      <td>114</td>\n",
       "      <td>13.3</td>\n",
       "      <td>Quad HD+ / Touchscreen 3200x1800</td>\n",
       "      <td>Intel Core i7 7560U 2.4GHz</td>\n",
       "      <td>8GB</td>\n",
       "      <td>256GB SSD</td>\n",
       "      <td>Intel Iris Plus Graphics 640</td>\n",
       "      <td>Windows 10</td>\n",
       "      <td>1.23kg</td>\n",
       "      <td>1379.0</td>\n",
       "    </tr>\n",
       "    <tr>\n",
       "      <th>2</th>\n",
       "      <td>172</td>\n",
       "      <td>17.3</td>\n",
       "      <td>IPS Panel Full HD 1920x1080</td>\n",
       "      <td>Intel Core i5 8250U 1.6GHz</td>\n",
       "      <td>8GB</td>\n",
       "      <td>256GB SSD</td>\n",
       "      <td>Nvidia GeForce MX150</td>\n",
       "      <td>Windows 10</td>\n",
       "      <td>3kg</td>\n",
       "      <td>854.0</td>\n",
       "    </tr>\n",
       "    <tr>\n",
       "      <th>4</th>\n",
       "      <td>447</td>\n",
       "      <td>17.3</td>\n",
       "      <td>1600x900</td>\n",
       "      <td>AMD A6-Series 9220 2.5GHz</td>\n",
       "      <td>8GB</td>\n",
       "      <td>1TB HDD</td>\n",
       "      <td>AMD Radeon R4</td>\n",
       "      <td>Windows 10</td>\n",
       "      <td>2.8kg</td>\n",
       "      <td>519.0</td>\n",
       "    </tr>\n",
       "    <tr>\n",
       "      <th>5</th>\n",
       "      <td>1150</td>\n",
       "      <td>15.6</td>\n",
       "      <td>Full HD 1920x1080</td>\n",
       "      <td>Intel Core i7 6500U 2.5GHz</td>\n",
       "      <td>16GB</td>\n",
       "      <td>1.0TB Hybrid</td>\n",
       "      <td>AMD Radeon R7 M360</td>\n",
       "      <td>Windows 10</td>\n",
       "      <td>2.5kg</td>\n",
       "      <td>1099.0</td>\n",
       "    </tr>\n",
       "  </tbody>\n",
       "</table>\n",
       "</div>"
      ],
      "text/plain": [
       "   laptop_ID  Inches                  ScreenResolution  \\\n",
       "0       1104    15.6                          1366x768   \n",
       "1        114    13.3  Quad HD+ / Touchscreen 3200x1800   \n",
       "2        172    17.3       IPS Panel Full HD 1920x1080   \n",
       "4        447    17.3                          1600x900   \n",
       "5       1150    15.6                 Full HD 1920x1080   \n",
       "\n",
       "                          Cpu   Ram        Memory  \\\n",
       "0   AMD A8-Series 7410 2.2GHz   4GB     500GB HDD   \n",
       "1  Intel Core i7 7560U 2.4GHz   8GB     256GB SSD   \n",
       "2  Intel Core i5 8250U 1.6GHz   8GB     256GB SSD   \n",
       "4   AMD A6-Series 9220 2.5GHz   8GB       1TB HDD   \n",
       "5  Intel Core i7 6500U 2.5GHz  16GB  1.0TB Hybrid   \n",
       "\n",
       "                            Gpu       OpSys  Weight  Price_euros  \n",
       "0                 AMD Radeon R5  Windows 10   2.4kg        387.0  \n",
       "1  Intel Iris Plus Graphics 640  Windows 10  1.23kg       1379.0  \n",
       "2          Nvidia GeForce MX150  Windows 10     3kg        854.0  \n",
       "4                 AMD Radeon R4  Windows 10   2.8kg        519.0  \n",
       "5            AMD Radeon R7 M360  Windows 10   2.5kg       1099.0  "
      ]
     },
     "execution_count": 63,
     "metadata": {},
     "output_type": "execute_result"
    }
   ],
   "source": [
    "train_copy.head()"
   ]
  },
  {
   "cell_type": "code",
   "execution_count": 141,
   "metadata": {},
   "outputs": [],
   "source": [
    "def remove_str_and_convert_to_int(df, column_name,):\n",
    "    df[column_name] = df[column_name].str.replace('\\D+', '').astype(int)"
   ]
  },
  {
   "cell_type": "code",
   "execution_count": 142,
   "metadata": {},
   "outputs": [
    {
     "name": "stderr",
     "output_type": "stream",
     "text": [
      "C:\\Users\\varel\\AppData\\Local\\Packages\\PythonSoftwareFoundation.Python.3.7_qbz5n2kfra8p0\\LocalCache\\local-packages\\Python37\\site-packages\\ipykernel_launcher.py:2: FutureWarning: The default value of regex will change from True to False in a future version.\n",
      "  \n"
     ]
    }
   ],
   "source": [
    "# Eliminamos los str de la columna Memory\n",
    "remove_str_and_convert_to_int(train_copy, 'Memory')\n",
    "\n",
    "# Eliminamos los str de la columna Ram\n",
    "remove_str_and_convert_to_int(train_copy,'Ram')"
   ]
  },
  {
   "cell_type": "code",
   "execution_count": 143,
   "metadata": {},
   "outputs": [],
   "source": [
    "def remove_str_and_convert_to_float(df, column_name):\n",
    "    df[column_name] = df[column_name].str.replace('\\D+', '').astype(float)"
   ]
  },
  {
   "cell_type": "code",
   "execution_count": 144,
   "metadata": {},
   "outputs": [],
   "source": [
    "#hacemos un ramplazo para normalizar los valores \n",
    "\n",
    "train_copy['Memory'] = train_copy['Memory'].replace({1: 1000, 10: 1000, 256500: 756, 1281: 1128, 2561: 1256, \n",
    "                                                       5121: 1512, 512256: 768,  5122: 2512, \n",
    "                                                       256256: 512, 11: 2000, 2: 2000})"
   ]
  },
  {
   "cell_type": "code",
   "execution_count": 145,
   "metadata": {},
   "outputs": [],
   "source": [
    "# Eliminamos el str Kg de la columna Weight y normalizamos los valores \n",
    "\n",
    "train_copy['Weight'] = train_copy['Weight'].apply(lambda x: int(float(x.replace('kg', '').strip()) * 1000))"
   ]
  },
  {
   "cell_type": "code",
   "execution_count": 146,
   "metadata": {},
   "outputs": [],
   "source": [
    "train_copy[\"OpSys\"] = train_copy[\"OpSys\"].replace(\"No OS\", \"macOS\")"
   ]
  },
  {
   "cell_type": "code",
   "execution_count": 147,
   "metadata": {},
   "outputs": [],
   "source": [
    "# cada sistema operativo se convertirá en un número entero en la columna \"OpSys\".\n",
    "\n",
    "os_dict = {'Windows 10': 1,  'Linux': 2, 'Mac OS X': 3, 'Windows 7': 4, 'Chrome OS': 5, 'macOS': 6, 'Windows 10 S': 7}\n",
    "train_copy['OpSys'] = train_copy['OpSys'].map(os_dict)"
   ]
  },
  {
   "cell_type": "code",
   "execution_count": 148,
   "metadata": {},
   "outputs": [],
   "source": [
    "def extract_speed(text):\n",
    "    speed = re.findall(r'\\d+\\.*\\d*GHz', text)[0]\n",
    "    speed = speed.replace('GHz', '')\n",
    "    return float(speed)\n"
   ]
  },
  {
   "cell_type": "code",
   "execution_count": 149,
   "metadata": {},
   "outputs": [],
   "source": [
    "train_copy['Cpu_GHz'] = train_copy['Cpu'].apply(extract_speed).astype(float)\n"
   ]
  },
  {
   "cell_type": "code",
   "execution_count": 150,
   "metadata": {},
   "outputs": [],
   "source": [
    "def split_cpu(cpu):\n",
    "    letters = ''.join(filter(str.isalpha, cpu))\n",
    "    numbers = ''.join(filter(str.isdigit, cpu))\n",
    "    return letters, numbers"
   ]
  },
  {
   "cell_type": "code",
   "execution_count": 151,
   "metadata": {},
   "outputs": [],
   "source": [
    "train_copy[['Cpu_letters', 'Cpu_numbers']] = train_copy['Cpu'].apply(split_cpu).apply(pd.Series)\n"
   ]
  },
  {
   "cell_type": "code",
   "execution_count": 152,
   "metadata": {},
   "outputs": [],
   "source": [
    "train_copy[['Gpu_letters', 'Gpu_numbers']] = train_copy['Gpu'].apply(split_cpu).apply(pd.Series)"
   ]
  },
  {
   "cell_type": "code",
   "execution_count": 153,
   "metadata": {},
   "outputs": [
    {
     "data": {
      "text/html": [
       "<div>\n",
       "<style scoped>\n",
       "    .dataframe tbody tr th:only-of-type {\n",
       "        vertical-align: middle;\n",
       "    }\n",
       "\n",
       "    .dataframe tbody tr th {\n",
       "        vertical-align: top;\n",
       "    }\n",
       "\n",
       "    .dataframe thead th {\n",
       "        text-align: right;\n",
       "    }\n",
       "</style>\n",
       "<table border=\"1\" class=\"dataframe\">\n",
       "  <thead>\n",
       "    <tr style=\"text-align: right;\">\n",
       "      <th></th>\n",
       "      <th>laptop_ID</th>\n",
       "      <th>Inches</th>\n",
       "      <th>ScreenResolution</th>\n",
       "      <th>Cpu</th>\n",
       "      <th>Ram</th>\n",
       "      <th>Memory</th>\n",
       "      <th>Gpu</th>\n",
       "      <th>OpSys</th>\n",
       "      <th>Weight</th>\n",
       "      <th>Price_euros</th>\n",
       "      <th>Cpu_GHz</th>\n",
       "      <th>Cpu_letters</th>\n",
       "      <th>Cpu_numbers</th>\n",
       "      <th>Gpu_letters</th>\n",
       "      <th>Gpu_numbers</th>\n",
       "    </tr>\n",
       "  </thead>\n",
       "  <tbody>\n",
       "    <tr>\n",
       "      <th>0</th>\n",
       "      <td>1104</td>\n",
       "      <td>15.6</td>\n",
       "      <td>1366x768</td>\n",
       "      <td>AMD A8-Series 7410 2.2GHz</td>\n",
       "      <td>4</td>\n",
       "      <td>500</td>\n",
       "      <td>AMD Radeon R5</td>\n",
       "      <td>1.0</td>\n",
       "      <td>2400</td>\n",
       "      <td>387.0</td>\n",
       "      <td>2.2</td>\n",
       "      <td>AMDASeriesGHz</td>\n",
       "      <td>8741022</td>\n",
       "      <td>AMDRadeonR</td>\n",
       "      <td>5</td>\n",
       "    </tr>\n",
       "    <tr>\n",
       "      <th>1</th>\n",
       "      <td>114</td>\n",
       "      <td>13.3</td>\n",
       "      <td>Quad HD+ / Touchscreen 3200x1800</td>\n",
       "      <td>Intel Core i7 7560U 2.4GHz</td>\n",
       "      <td>8</td>\n",
       "      <td>256</td>\n",
       "      <td>Intel Iris Plus Graphics 640</td>\n",
       "      <td>1.0</td>\n",
       "      <td>1230</td>\n",
       "      <td>1379.0</td>\n",
       "      <td>2.4</td>\n",
       "      <td>IntelCoreiUGHz</td>\n",
       "      <td>7756024</td>\n",
       "      <td>IntelIrisPlusGraphics</td>\n",
       "      <td>640</td>\n",
       "    </tr>\n",
       "    <tr>\n",
       "      <th>2</th>\n",
       "      <td>172</td>\n",
       "      <td>17.3</td>\n",
       "      <td>IPS Panel Full HD 1920x1080</td>\n",
       "      <td>Intel Core i5 8250U 1.6GHz</td>\n",
       "      <td>8</td>\n",
       "      <td>256</td>\n",
       "      <td>Nvidia GeForce MX150</td>\n",
       "      <td>1.0</td>\n",
       "      <td>3000</td>\n",
       "      <td>854.0</td>\n",
       "      <td>1.6</td>\n",
       "      <td>IntelCoreiUGHz</td>\n",
       "      <td>5825016</td>\n",
       "      <td>NvidiaGeForceMX</td>\n",
       "      <td>150</td>\n",
       "    </tr>\n",
       "    <tr>\n",
       "      <th>4</th>\n",
       "      <td>447</td>\n",
       "      <td>17.3</td>\n",
       "      <td>1600x900</td>\n",
       "      <td>AMD A6-Series 9220 2.5GHz</td>\n",
       "      <td>8</td>\n",
       "      <td>1000</td>\n",
       "      <td>AMD Radeon R4</td>\n",
       "      <td>1.0</td>\n",
       "      <td>2800</td>\n",
       "      <td>519.0</td>\n",
       "      <td>2.5</td>\n",
       "      <td>AMDASeriesGHz</td>\n",
       "      <td>6922025</td>\n",
       "      <td>AMDRadeonR</td>\n",
       "      <td>4</td>\n",
       "    </tr>\n",
       "    <tr>\n",
       "      <th>5</th>\n",
       "      <td>1150</td>\n",
       "      <td>15.6</td>\n",
       "      <td>Full HD 1920x1080</td>\n",
       "      <td>Intel Core i7 6500U 2.5GHz</td>\n",
       "      <td>16</td>\n",
       "      <td>1000</td>\n",
       "      <td>AMD Radeon R7 M360</td>\n",
       "      <td>1.0</td>\n",
       "      <td>2500</td>\n",
       "      <td>1099.0</td>\n",
       "      <td>2.5</td>\n",
       "      <td>IntelCoreiUGHz</td>\n",
       "      <td>7650025</td>\n",
       "      <td>AMDRadeonRM</td>\n",
       "      <td>7360</td>\n",
       "    </tr>\n",
       "  </tbody>\n",
       "</table>\n",
       "</div>"
      ],
      "text/plain": [
       "   laptop_ID  Inches                  ScreenResolution  \\\n",
       "0       1104    15.6                          1366x768   \n",
       "1        114    13.3  Quad HD+ / Touchscreen 3200x1800   \n",
       "2        172    17.3       IPS Panel Full HD 1920x1080   \n",
       "4        447    17.3                          1600x900   \n",
       "5       1150    15.6                 Full HD 1920x1080   \n",
       "\n",
       "                          Cpu  Ram  Memory                           Gpu  \\\n",
       "0   AMD A8-Series 7410 2.2GHz    4     500                 AMD Radeon R5   \n",
       "1  Intel Core i7 7560U 2.4GHz    8     256  Intel Iris Plus Graphics 640   \n",
       "2  Intel Core i5 8250U 1.6GHz    8     256          Nvidia GeForce MX150   \n",
       "4   AMD A6-Series 9220 2.5GHz    8    1000                 AMD Radeon R4   \n",
       "5  Intel Core i7 6500U 2.5GHz   16    1000            AMD Radeon R7 M360   \n",
       "\n",
       "   OpSys  Weight  Price_euros  Cpu_GHz     Cpu_letters Cpu_numbers  \\\n",
       "0    1.0    2400        387.0      2.2   AMDASeriesGHz     8741022   \n",
       "1    1.0    1230       1379.0      2.4  IntelCoreiUGHz     7756024   \n",
       "2    1.0    3000        854.0      1.6  IntelCoreiUGHz     5825016   \n",
       "4    1.0    2800        519.0      2.5   AMDASeriesGHz     6922025   \n",
       "5    1.0    2500       1099.0      2.5  IntelCoreiUGHz     7650025   \n",
       "\n",
       "             Gpu_letters Gpu_numbers  \n",
       "0             AMDRadeonR           5  \n",
       "1  IntelIrisPlusGraphics         640  \n",
       "2        NvidiaGeForceMX         150  \n",
       "4             AMDRadeonR           4  \n",
       "5            AMDRadeonRM        7360  "
      ]
     },
     "execution_count": 153,
     "metadata": {},
     "output_type": "execute_result"
    }
   ],
   "source": [
    "train_copy.head()"
   ]
  },
  {
   "cell_type": "code",
   "execution_count": 154,
   "metadata": {},
   "outputs": [
    {
     "name": "stdout",
     "output_type": "stream",
     "text": [
      "<class 'pandas.core.frame.DataFrame'>\n",
      "Int64Index: 893 entries, 0 to 911\n",
      "Data columns (total 15 columns):\n",
      " #   Column            Non-Null Count  Dtype  \n",
      "---  ------            --------------  -----  \n",
      " 0   laptop_ID         893 non-null    int64  \n",
      " 1   Inches            893 non-null    float64\n",
      " 2   ScreenResolution  893 non-null    object \n",
      " 3   Cpu               893 non-null    object \n",
      " 4   Ram               893 non-null    int32  \n",
      " 5   Memory            893 non-null    int64  \n",
      " 6   Gpu               893 non-null    object \n",
      " 7   OpSys             892 non-null    float64\n",
      " 8   Weight            893 non-null    int64  \n",
      " 9   Price_euros       893 non-null    float64\n",
      " 10  Cpu_GHz           893 non-null    float64\n",
      " 11  Cpu_letters       893 non-null    object \n",
      " 12  Cpu_numbers       893 non-null    object \n",
      " 13  Gpu_letters       893 non-null    object \n",
      " 14  Gpu_numbers       893 non-null    object \n",
      "dtypes: float64(4), int32(1), int64(3), object(7)\n",
      "memory usage: 108.1+ KB\n"
     ]
    }
   ],
   "source": [
    "train_copy.info()"
   ]
  },
  {
   "cell_type": "code",
   "execution_count": 155,
   "metadata": {},
   "outputs": [
    {
     "name": "stdout",
     "output_type": "stream",
     "text": [
      "                     ScreenResolution resolucion_x resolucion_y\n",
      "0                            1366x768         1366          768\n",
      "1    Quad HD+ / Touchscreen 3200x1800         3200         1800\n",
      "2         IPS Panel Full HD 1920x1080         1920         1080\n",
      "4                            1600x900         1600          900\n",
      "5                   Full HD 1920x1080         1920         1080\n",
      "..                                ...          ...          ...\n",
      "907                 Full HD 1920x1080         1920         1080\n",
      "908             4K Ultra HD 3840x2160         3840         2160\n",
      "909                 Full HD 1920x1080         1920         1080\n",
      "910                 Full HD 1920x1080         1920         1080\n",
      "911                 Full HD 1920x1080         1920         1080\n",
      "\n",
      "[893 rows x 3 columns]\n"
     ]
    }
   ],
   "source": [
    "# Aplicar la función str.extract() para extraer los números\n",
    "train_copy[['resolucion_x', 'resolucion_y']] = train_copy['ScreenResolution'].str.extract('(\\d+)x(\\d+)', expand=True)\n",
    "\n",
    "# Imprimir el resultado\n",
    "print(train_copy[['ScreenResolution', 'resolucion_x', 'resolucion_y']])\n"
   ]
  },
  {
   "cell_type": "code",
   "execution_count": 156,
   "metadata": {},
   "outputs": [],
   "source": [
    "# Se crea una columna llamada total_pixels y se aplica la función lambda \n",
    "train_copy['total_pixels'] = train_copy.apply(lambda row: int(row['resolucion_x']) * int(row['resolucion_y']), axis=1)"
   ]
  },
  {
   "cell_type": "code",
   "execution_count": 157,
   "metadata": {},
   "outputs": [],
   "source": [
    "# Se eliminan las columnas que no son necesarias \n",
    "train_copy.drop(['ScreenResolution','Cpu','Gpu','resolucion_x','resolucion_y'],axis=1, inplace=True)"
   ]
  },
  {
   "cell_type": "code",
   "execution_count": 158,
   "metadata": {},
   "outputs": [
    {
     "data": {
      "text/html": [
       "<div>\n",
       "<style scoped>\n",
       "    .dataframe tbody tr th:only-of-type {\n",
       "        vertical-align: middle;\n",
       "    }\n",
       "\n",
       "    .dataframe tbody tr th {\n",
       "        vertical-align: top;\n",
       "    }\n",
       "\n",
       "    .dataframe thead th {\n",
       "        text-align: right;\n",
       "    }\n",
       "</style>\n",
       "<table border=\"1\" class=\"dataframe\">\n",
       "  <thead>\n",
       "    <tr style=\"text-align: right;\">\n",
       "      <th></th>\n",
       "      <th>laptop_ID</th>\n",
       "      <th>Inches</th>\n",
       "      <th>Ram</th>\n",
       "      <th>Memory</th>\n",
       "      <th>OpSys</th>\n",
       "      <th>Weight</th>\n",
       "      <th>Price_euros</th>\n",
       "      <th>Cpu_GHz</th>\n",
       "      <th>total_pixels</th>\n",
       "    </tr>\n",
       "  </thead>\n",
       "  <tbody>\n",
       "    <tr>\n",
       "      <th>count</th>\n",
       "      <td>893.000000</td>\n",
       "      <td>893.00000</td>\n",
       "      <td>893.000000</td>\n",
       "      <td>893.000000</td>\n",
       "      <td>892.000000</td>\n",
       "      <td>893.000000</td>\n",
       "      <td>893.000000</td>\n",
       "      <td>893.000000</td>\n",
       "      <td>8.930000e+02</td>\n",
       "    </tr>\n",
       "    <tr>\n",
       "      <th>mean</th>\n",
       "      <td>666.284434</td>\n",
       "      <td>15.04972</td>\n",
       "      <td>8.340426</td>\n",
       "      <td>1181.727884</td>\n",
       "      <td>1.589686</td>\n",
       "      <td>2037.825308</td>\n",
       "      <td>1126.348690</td>\n",
       "      <td>2.309071</td>\n",
       "      <td>2.191541e+06</td>\n",
       "    </tr>\n",
       "    <tr>\n",
       "      <th>std</th>\n",
       "      <td>379.542827</td>\n",
       "      <td>1.35384</td>\n",
       "      <td>4.824325</td>\n",
       "      <td>17136.561483</td>\n",
       "      <td>1.463290</td>\n",
       "      <td>650.605078</td>\n",
       "      <td>680.396361</td>\n",
       "      <td>0.502688</td>\n",
       "      <td>1.436541e+06</td>\n",
       "    </tr>\n",
       "    <tr>\n",
       "      <th>min</th>\n",
       "      <td>1.000000</td>\n",
       "      <td>10.10000</td>\n",
       "      <td>2.000000</td>\n",
       "      <td>16.000000</td>\n",
       "      <td>1.000000</td>\n",
       "      <td>690.000000</td>\n",
       "      <td>199.000000</td>\n",
       "      <td>0.900000</td>\n",
       "      <td>1.049088e+06</td>\n",
       "    </tr>\n",
       "    <tr>\n",
       "      <th>25%</th>\n",
       "      <td>339.000000</td>\n",
       "      <td>14.00000</td>\n",
       "      <td>4.000000</td>\n",
       "      <td>256.000000</td>\n",
       "      <td>1.000000</td>\n",
       "      <td>1540.000000</td>\n",
       "      <td>615.000000</td>\n",
       "      <td>2.000000</td>\n",
       "      <td>1.440000e+06</td>\n",
       "    </tr>\n",
       "    <tr>\n",
       "      <th>50%</th>\n",
       "      <td>673.000000</td>\n",
       "      <td>15.60000</td>\n",
       "      <td>8.000000</td>\n",
       "      <td>500.000000</td>\n",
       "      <td>1.000000</td>\n",
       "      <td>2040.000000</td>\n",
       "      <td>985.000000</td>\n",
       "      <td>2.500000</td>\n",
       "      <td>2.073600e+06</td>\n",
       "    </tr>\n",
       "    <tr>\n",
       "      <th>75%</th>\n",
       "      <td>991.000000</td>\n",
       "      <td>15.60000</td>\n",
       "      <td>8.000000</td>\n",
       "      <td>1000.000000</td>\n",
       "      <td>1.000000</td>\n",
       "      <td>2300.000000</td>\n",
       "      <td>1477.000000</td>\n",
       "      <td>2.700000</td>\n",
       "      <td>2.073600e+06</td>\n",
       "    </tr>\n",
       "    <tr>\n",
       "      <th>max</th>\n",
       "      <td>1318.000000</td>\n",
       "      <td>18.40000</td>\n",
       "      <td>32.000000</td>\n",
       "      <td>512512.000000</td>\n",
       "      <td>7.000000</td>\n",
       "      <td>4600.000000</td>\n",
       "      <td>5499.000000</td>\n",
       "      <td>3.600000</td>\n",
       "      <td>8.294400e+06</td>\n",
       "    </tr>\n",
       "  </tbody>\n",
       "</table>\n",
       "</div>"
      ],
      "text/plain": [
       "         laptop_ID     Inches         Ram         Memory       OpSys  \\\n",
       "count   893.000000  893.00000  893.000000     893.000000  892.000000   \n",
       "mean    666.284434   15.04972    8.340426    1181.727884    1.589686   \n",
       "std     379.542827    1.35384    4.824325   17136.561483    1.463290   \n",
       "min       1.000000   10.10000    2.000000      16.000000    1.000000   \n",
       "25%     339.000000   14.00000    4.000000     256.000000    1.000000   \n",
       "50%     673.000000   15.60000    8.000000     500.000000    1.000000   \n",
       "75%     991.000000   15.60000    8.000000    1000.000000    1.000000   \n",
       "max    1318.000000   18.40000   32.000000  512512.000000    7.000000   \n",
       "\n",
       "            Weight  Price_euros     Cpu_GHz  total_pixels  \n",
       "count   893.000000   893.000000  893.000000  8.930000e+02  \n",
       "mean   2037.825308  1126.348690    2.309071  2.191541e+06  \n",
       "std     650.605078   680.396361    0.502688  1.436541e+06  \n",
       "min     690.000000   199.000000    0.900000  1.049088e+06  \n",
       "25%    1540.000000   615.000000    2.000000  1.440000e+06  \n",
       "50%    2040.000000   985.000000    2.500000  2.073600e+06  \n",
       "75%    2300.000000  1477.000000    2.700000  2.073600e+06  \n",
       "max    4600.000000  5499.000000    3.600000  8.294400e+06  "
      ]
     },
     "execution_count": 158,
     "metadata": {},
     "output_type": "execute_result"
    }
   ],
   "source": [
    "train_copy.describe()"
   ]
  },
  {
   "cell_type": "code",
   "execution_count": 160,
   "metadata": {},
   "outputs": [
    {
     "data": {
      "text/html": [
       "<div>\n",
       "<style scoped>\n",
       "    .dataframe tbody tr th:only-of-type {\n",
       "        vertical-align: middle;\n",
       "    }\n",
       "\n",
       "    .dataframe tbody tr th {\n",
       "        vertical-align: top;\n",
       "    }\n",
       "\n",
       "    .dataframe thead th {\n",
       "        text-align: right;\n",
       "    }\n",
       "</style>\n",
       "<table border=\"1\" class=\"dataframe\">\n",
       "  <thead>\n",
       "    <tr style=\"text-align: right;\">\n",
       "      <th></th>\n",
       "      <th>laptop_ID</th>\n",
       "      <th>Inches</th>\n",
       "      <th>Ram</th>\n",
       "      <th>Memory</th>\n",
       "      <th>OpSys</th>\n",
       "      <th>Weight</th>\n",
       "      <th>Price_euros</th>\n",
       "      <th>Cpu_GHz</th>\n",
       "      <th>Cpu_letters</th>\n",
       "      <th>Cpu_numbers</th>\n",
       "      <th>Gpu_letters</th>\n",
       "      <th>Gpu_numbers</th>\n",
       "      <th>total_pixels</th>\n",
       "      <th>Gpu_numbers\\t</th>\n",
       "    </tr>\n",
       "  </thead>\n",
       "  <tbody>\n",
       "    <tr>\n",
       "      <th>0</th>\n",
       "      <td>1104</td>\n",
       "      <td>15.6</td>\n",
       "      <td>4</td>\n",
       "      <td>500</td>\n",
       "      <td>1.0</td>\n",
       "      <td>2400</td>\n",
       "      <td>387.0</td>\n",
       "      <td>2.2</td>\n",
       "      <td>AMDASeriesGHz</td>\n",
       "      <td>8741022</td>\n",
       "      <td>AMDRadeonR</td>\n",
       "      <td>5</td>\n",
       "      <td>1049088</td>\n",
       "      <td>5</td>\n",
       "    </tr>\n",
       "    <tr>\n",
       "      <th>1</th>\n",
       "      <td>114</td>\n",
       "      <td>13.3</td>\n",
       "      <td>8</td>\n",
       "      <td>256</td>\n",
       "      <td>1.0</td>\n",
       "      <td>1230</td>\n",
       "      <td>1379.0</td>\n",
       "      <td>2.4</td>\n",
       "      <td>IntelCoreiUGHz</td>\n",
       "      <td>7756024</td>\n",
       "      <td>IntelIrisPlusGraphics</td>\n",
       "      <td>640</td>\n",
       "      <td>5760000</td>\n",
       "      <td>640</td>\n",
       "    </tr>\n",
       "    <tr>\n",
       "      <th>2</th>\n",
       "      <td>172</td>\n",
       "      <td>17.3</td>\n",
       "      <td>8</td>\n",
       "      <td>256</td>\n",
       "      <td>1.0</td>\n",
       "      <td>3000</td>\n",
       "      <td>854.0</td>\n",
       "      <td>1.6</td>\n",
       "      <td>IntelCoreiUGHz</td>\n",
       "      <td>5825016</td>\n",
       "      <td>NvidiaGeForceMX</td>\n",
       "      <td>150</td>\n",
       "      <td>2073600</td>\n",
       "      <td>150</td>\n",
       "    </tr>\n",
       "    <tr>\n",
       "      <th>4</th>\n",
       "      <td>447</td>\n",
       "      <td>17.3</td>\n",
       "      <td>8</td>\n",
       "      <td>1000</td>\n",
       "      <td>1.0</td>\n",
       "      <td>2800</td>\n",
       "      <td>519.0</td>\n",
       "      <td>2.5</td>\n",
       "      <td>AMDASeriesGHz</td>\n",
       "      <td>6922025</td>\n",
       "      <td>AMDRadeonR</td>\n",
       "      <td>4</td>\n",
       "      <td>1440000</td>\n",
       "      <td>4</td>\n",
       "    </tr>\n",
       "    <tr>\n",
       "      <th>5</th>\n",
       "      <td>1150</td>\n",
       "      <td>15.6</td>\n",
       "      <td>16</td>\n",
       "      <td>1000</td>\n",
       "      <td>1.0</td>\n",
       "      <td>2500</td>\n",
       "      <td>1099.0</td>\n",
       "      <td>2.5</td>\n",
       "      <td>IntelCoreiUGHz</td>\n",
       "      <td>7650025</td>\n",
       "      <td>AMDRadeonRM</td>\n",
       "      <td>7360</td>\n",
       "      <td>2073600</td>\n",
       "      <td>7360</td>\n",
       "    </tr>\n",
       "  </tbody>\n",
       "</table>\n",
       "</div>"
      ],
      "text/plain": [
       "   laptop_ID  Inches  Ram  Memory  OpSys  Weight  Price_euros  Cpu_GHz  \\\n",
       "0       1104    15.6    4     500    1.0    2400        387.0      2.2   \n",
       "1        114    13.3    8     256    1.0    1230       1379.0      2.4   \n",
       "2        172    17.3    8     256    1.0    3000        854.0      1.6   \n",
       "4        447    17.3    8    1000    1.0    2800        519.0      2.5   \n",
       "5       1150    15.6   16    1000    1.0    2500       1099.0      2.5   \n",
       "\n",
       "      Cpu_letters Cpu_numbers            Gpu_letters Gpu_numbers  \\\n",
       "0   AMDASeriesGHz     8741022             AMDRadeonR           5   \n",
       "1  IntelCoreiUGHz     7756024  IntelIrisPlusGraphics         640   \n",
       "2  IntelCoreiUGHz     5825016        NvidiaGeForceMX         150   \n",
       "4   AMDASeriesGHz     6922025             AMDRadeonR           4   \n",
       "5  IntelCoreiUGHz     7650025            AMDRadeonRM        7360   \n",
       "\n",
       "   total_pixels Gpu_numbers\\t  \n",
       "0       1049088             5  \n",
       "1       5760000           640  \n",
       "2       2073600           150  \n",
       "4       1440000             4  \n",
       "5       2073600          7360  "
      ]
     },
     "execution_count": 160,
     "metadata": {},
     "output_type": "execute_result"
    }
   ],
   "source": [
    "train_copy.head()"
   ]
  },
  {
   "cell_type": "code",
   "execution_count": 159,
   "metadata": {},
   "outputs": [],
   "source": [
    "train_copy['Gpu_numbers\t'] = train_copy['Gpu_numbers'].str.strip()\n"
   ]
  },
  {
   "cell_type": "code",
   "execution_count": 161,
   "metadata": {},
   "outputs": [
    {
     "name": "stdout",
     "output_type": "stream",
     "text": [
      "['5' '640' '150' '4' '7360' '620' '940' '1050' '520' '400' '515' '1070'\n",
      " '5330' '930' '920' '1060' '7445' '6000' '2' '615' '540' '950' '130' '505'\n",
      " '960' '' '500' '630' '1200' '5420' '970' '980' '530' '405' '580' '5300'\n",
      " '965' '5430' '5520' '510' '960039' '7440' '1080' '2200' '650' '4190'\n",
      " '1000' '3000' '17170' '7' '550' '9385' '5315' '5130' '7465' '7365' '7460'\n",
      " '455' '2000' '555']\n"
     ]
    }
   ],
   "source": [
    "print(train_copy['Gpu_numbers\\t'].unique())"
   ]
  },
  {
   "cell_type": "code",
   "execution_count": null,
   "metadata": {},
   "outputs": [],
   "source": []
  },
  {
   "cell_type": "code",
   "execution_count": 162,
   "metadata": {},
   "outputs": [],
   "source": [
    "train_copy.drop(['Gpu_letters','Cpu_letters'],axis=1, inplace=True)"
   ]
  },
  {
   "cell_type": "code",
   "execution_count": 163,
   "metadata": {},
   "outputs": [],
   "source": [
    "train_copy['Cpu_numbers'] = train_copy['Cpu_numbers'].astype(float)\n"
   ]
  },
  {
   "cell_type": "code",
   "execution_count": 164,
   "metadata": {},
   "outputs": [],
   "source": [
    "train_copy['Gpu_numbers\\t'] = pd.to_numeric(train_copy['Gpu_numbers\\t']).astype(float)\n"
   ]
  },
  {
   "cell_type": "code",
   "execution_count": 166,
   "metadata": {},
   "outputs": [],
   "source": [
    "train_copy['Gpu_numbers\\t'] = train_copy['Gpu_numbers\\t'].fillna(train_copy['Gpu_numbers\\t'].mean())\n"
   ]
  },
  {
   "cell_type": "code",
   "execution_count": 167,
   "metadata": {},
   "outputs": [],
   "source": [
    "train_copy['OpSys'] = train_copy['OpSys'].fillna(train_copy['OpSys'].mean())\n"
   ]
  },
  {
   "cell_type": "code",
   "execution_count": 168,
   "metadata": {},
   "outputs": [
    {
     "data": {
      "text/plain": [
       "laptop_ID        0\n",
       "Inches           0\n",
       "Ram              0\n",
       "Memory           0\n",
       "OpSys            0\n",
       "Weight           0\n",
       "Price_euros      0\n",
       "Cpu_GHz          0\n",
       "Cpu_numbers      0\n",
       "Gpu_numbers      0\n",
       "total_pixels     0\n",
       "Gpu_numbers\\t    0\n",
       "dtype: int64"
      ]
     },
     "execution_count": 168,
     "metadata": {},
     "output_type": "execute_result"
    }
   ],
   "source": [
    "train_copy.isnull().sum()"
   ]
  },
  {
   "cell_type": "code",
   "execution_count": 45,
   "metadata": {},
   "outputs": [],
   "source": [
    "# train_copy['Gpu_numbers'] = pd.to_numeric(train_copy['Gpu_numbers'], errors='coerce')\n"
   ]
  },
  {
   "cell_type": "code",
   "execution_count": 46,
   "metadata": {},
   "outputs": [],
   "source": [
    "# train_copy['Cpu_numbers'] = pd.to_numeric(train_copy['Cpu_numbers'], errors='coerce')\n"
   ]
  },
  {
   "cell_type": "code",
   "execution_count": 169,
   "metadata": {},
   "outputs": [
    {
     "data": {
      "text/html": [
       "<div>\n",
       "<style scoped>\n",
       "    .dataframe tbody tr th:only-of-type {\n",
       "        vertical-align: middle;\n",
       "    }\n",
       "\n",
       "    .dataframe tbody tr th {\n",
       "        vertical-align: top;\n",
       "    }\n",
       "\n",
       "    .dataframe thead th {\n",
       "        text-align: right;\n",
       "    }\n",
       "</style>\n",
       "<table border=\"1\" class=\"dataframe\">\n",
       "  <thead>\n",
       "    <tr style=\"text-align: right;\">\n",
       "      <th></th>\n",
       "      <th>laptop_ID</th>\n",
       "      <th>Inches</th>\n",
       "      <th>Ram</th>\n",
       "      <th>Memory</th>\n",
       "      <th>OpSys</th>\n",
       "      <th>Weight</th>\n",
       "      <th>Price_euros</th>\n",
       "      <th>Cpu_GHz</th>\n",
       "      <th>Cpu_numbers</th>\n",
       "      <th>Gpu_numbers</th>\n",
       "      <th>total_pixels</th>\n",
       "      <th>Gpu_numbers\\t</th>\n",
       "    </tr>\n",
       "  </thead>\n",
       "  <tbody>\n",
       "    <tr>\n",
       "      <th>0</th>\n",
       "      <td>1104</td>\n",
       "      <td>15.6</td>\n",
       "      <td>4</td>\n",
       "      <td>500</td>\n",
       "      <td>1.0</td>\n",
       "      <td>2400</td>\n",
       "      <td>387.0</td>\n",
       "      <td>2.2</td>\n",
       "      <td>8741022.0</td>\n",
       "      <td>5</td>\n",
       "      <td>1049088</td>\n",
       "      <td>5.0</td>\n",
       "    </tr>\n",
       "    <tr>\n",
       "      <th>1</th>\n",
       "      <td>114</td>\n",
       "      <td>13.3</td>\n",
       "      <td>8</td>\n",
       "      <td>256</td>\n",
       "      <td>1.0</td>\n",
       "      <td>1230</td>\n",
       "      <td>1379.0</td>\n",
       "      <td>2.4</td>\n",
       "      <td>7756024.0</td>\n",
       "      <td>640</td>\n",
       "      <td>5760000</td>\n",
       "      <td>640.0</td>\n",
       "    </tr>\n",
       "    <tr>\n",
       "      <th>2</th>\n",
       "      <td>172</td>\n",
       "      <td>17.3</td>\n",
       "      <td>8</td>\n",
       "      <td>256</td>\n",
       "      <td>1.0</td>\n",
       "      <td>3000</td>\n",
       "      <td>854.0</td>\n",
       "      <td>1.6</td>\n",
       "      <td>5825016.0</td>\n",
       "      <td>150</td>\n",
       "      <td>2073600</td>\n",
       "      <td>150.0</td>\n",
       "    </tr>\n",
       "    <tr>\n",
       "      <th>4</th>\n",
       "      <td>447</td>\n",
       "      <td>17.3</td>\n",
       "      <td>8</td>\n",
       "      <td>1000</td>\n",
       "      <td>1.0</td>\n",
       "      <td>2800</td>\n",
       "      <td>519.0</td>\n",
       "      <td>2.5</td>\n",
       "      <td>6922025.0</td>\n",
       "      <td>4</td>\n",
       "      <td>1440000</td>\n",
       "      <td>4.0</td>\n",
       "    </tr>\n",
       "    <tr>\n",
       "      <th>5</th>\n",
       "      <td>1150</td>\n",
       "      <td>15.6</td>\n",
       "      <td>16</td>\n",
       "      <td>1000</td>\n",
       "      <td>1.0</td>\n",
       "      <td>2500</td>\n",
       "      <td>1099.0</td>\n",
       "      <td>2.5</td>\n",
       "      <td>7650025.0</td>\n",
       "      <td>7360</td>\n",
       "      <td>2073600</td>\n",
       "      <td>7360.0</td>\n",
       "    </tr>\n",
       "  </tbody>\n",
       "</table>\n",
       "</div>"
      ],
      "text/plain": [
       "   laptop_ID  Inches  Ram  Memory  OpSys  Weight  Price_euros  Cpu_GHz  \\\n",
       "0       1104    15.6    4     500    1.0    2400        387.0      2.2   \n",
       "1        114    13.3    8     256    1.0    1230       1379.0      2.4   \n",
       "2        172    17.3    8     256    1.0    3000        854.0      1.6   \n",
       "4        447    17.3    8    1000    1.0    2800        519.0      2.5   \n",
       "5       1150    15.6   16    1000    1.0    2500       1099.0      2.5   \n",
       "\n",
       "   Cpu_numbers Gpu_numbers  total_pixels  Gpu_numbers\\t  \n",
       "0    8741022.0           5       1049088            5.0  \n",
       "1    7756024.0         640       5760000          640.0  \n",
       "2    5825016.0         150       2073600          150.0  \n",
       "4    6922025.0           4       1440000            4.0  \n",
       "5    7650025.0        7360       2073600         7360.0  "
      ]
     },
     "execution_count": 169,
     "metadata": {},
     "output_type": "execute_result"
    }
   ],
   "source": [
    "train_copy.head()\n"
   ]
  },
  {
   "cell_type": "code",
   "execution_count": 170,
   "metadata": {},
   "outputs": [],
   "source": [
    "train_copy.drop(['Gpu_numbers'],axis=1, inplace=True)"
   ]
  },
  {
   "cell_type": "code",
   "execution_count": 171,
   "metadata": {},
   "outputs": [
    {
     "data": {
      "text/plain": [
       "laptop_ID  Inches  Ram  Memory  OpSys  Weight  Price_euros  Cpu_GHz  Cpu_numbers  total_pixels  Gpu_numbers\\t\n",
       "1          13.3    8    128     6.0    1370    1339.69      2.3      523.0        4096000       640.000000       1\n",
       "26         15.6    4    1000    1.0    2300    418.64       2.0      360062.0     1049088       520.000000       1\n",
       "4          15.4    16   512     6.0    1830    2537.45      2.7      727.0        5184000       455.000000       1\n",
       "6          15.6    4    500     1.0    2100    400.00       3.0      994203.0     1049088       5.000000         1\n",
       "7          15.4    16   256     3.0    2040    2139.97      2.2      722.0        5184000       3275.266361      1\n",
       "                                                                                                                ..\n",
       "1311       15.6    8    1000    1.0    2600    899.00       2.6      7670026.0    2073600       960.000000       1\n",
       "1312       15.6    6    1000    1.0    2040    549.99       2.9      9941029.0    2073600       7440.000000      1\n",
       "1313       15.6    8    1000    2.0    2300    805.99       2.7      7750027.0    1049088       5430.000000      1\n",
       "1315       15.6    4    500     1.0    2200    720.32       2.5      7650025.0    1049088       920.000000       1\n",
       "1318       14.0    2    64      1.0    1500    229.00       1.6      305016.0     1049088       3275.266361      1\n",
       "Length: 893, dtype: int64"
      ]
     },
     "execution_count": 171,
     "metadata": {},
     "output_type": "execute_result"
    }
   ],
   "source": [
    "train_copy.value_counts().sort_values(ascending=False)"
   ]
  },
  {
   "cell_type": "code",
   "execution_count": 172,
   "metadata": {},
   "outputs": [
    {
     "data": {
      "text/html": [
       "<div>\n",
       "<style scoped>\n",
       "    .dataframe tbody tr th:only-of-type {\n",
       "        vertical-align: middle;\n",
       "    }\n",
       "\n",
       "    .dataframe tbody tr th {\n",
       "        vertical-align: top;\n",
       "    }\n",
       "\n",
       "    .dataframe thead th {\n",
       "        text-align: right;\n",
       "    }\n",
       "</style>\n",
       "<table border=\"1\" class=\"dataframe\">\n",
       "  <thead>\n",
       "    <tr style=\"text-align: right;\">\n",
       "      <th></th>\n",
       "      <th>laptop_ID</th>\n",
       "      <th>Inches</th>\n",
       "      <th>Ram</th>\n",
       "      <th>Memory</th>\n",
       "      <th>OpSys</th>\n",
       "      <th>Weight</th>\n",
       "      <th>Price_euros</th>\n",
       "      <th>Cpu_GHz</th>\n",
       "      <th>Cpu_numbers</th>\n",
       "      <th>total_pixels</th>\n",
       "      <th>Gpu_numbers\\t</th>\n",
       "    </tr>\n",
       "  </thead>\n",
       "  <tbody>\n",
       "    <tr>\n",
       "      <th>count</th>\n",
       "      <td>893.000000</td>\n",
       "      <td>893.00000</td>\n",
       "      <td>893.000000</td>\n",
       "      <td>893.000000</td>\n",
       "      <td>893.000000</td>\n",
       "      <td>893.000000</td>\n",
       "      <td>893.000000</td>\n",
       "      <td>893.000000</td>\n",
       "      <td>8.930000e+02</td>\n",
       "      <td>8.930000e+02</td>\n",
       "      <td>893.000000</td>\n",
       "    </tr>\n",
       "    <tr>\n",
       "      <th>mean</th>\n",
       "      <td>666.284434</td>\n",
       "      <td>15.04972</td>\n",
       "      <td>8.340426</td>\n",
       "      <td>1181.727884</td>\n",
       "      <td>1.589686</td>\n",
       "      <td>2037.825308</td>\n",
       "      <td>1126.348690</td>\n",
       "      <td>2.309071</td>\n",
       "      <td>6.107455e+06</td>\n",
       "      <td>2.191541e+06</td>\n",
       "      <td>3275.266361</td>\n",
       "    </tr>\n",
       "    <tr>\n",
       "      <th>std</th>\n",
       "      <td>379.542827</td>\n",
       "      <td>1.35384</td>\n",
       "      <td>4.824325</td>\n",
       "      <td>17136.561483</td>\n",
       "      <td>1.462470</td>\n",
       "      <td>650.605078</td>\n",
       "      <td>680.396361</td>\n",
       "      <td>0.502688</td>\n",
       "      <td>6.458321e+06</td>\n",
       "      <td>1.436541e+06</td>\n",
       "      <td>45381.024817</td>\n",
       "    </tr>\n",
       "    <tr>\n",
       "      <th>min</th>\n",
       "      <td>1.000000</td>\n",
       "      <td>10.10000</td>\n",
       "      <td>2.000000</td>\n",
       "      <td>16.000000</td>\n",
       "      <td>1.000000</td>\n",
       "      <td>690.000000</td>\n",
       "      <td>199.000000</td>\n",
       "      <td>0.900000</td>\n",
       "      <td>1.100000e+01</td>\n",
       "      <td>1.049088e+06</td>\n",
       "      <td>2.000000</td>\n",
       "    </tr>\n",
       "    <tr>\n",
       "      <th>25%</th>\n",
       "      <td>339.000000</td>\n",
       "      <td>14.00000</td>\n",
       "      <td>4.000000</td>\n",
       "      <td>256.000000</td>\n",
       "      <td>1.000000</td>\n",
       "      <td>1540.000000</td>\n",
       "      <td>615.000000</td>\n",
       "      <td>2.000000</td>\n",
       "      <td>3.713027e+06</td>\n",
       "      <td>1.440000e+06</td>\n",
       "      <td>520.000000</td>\n",
       "    </tr>\n",
       "    <tr>\n",
       "      <th>50%</th>\n",
       "      <td>673.000000</td>\n",
       "      <td>15.60000</td>\n",
       "      <td>8.000000</td>\n",
       "      <td>500.000000</td>\n",
       "      <td>1.000000</td>\n",
       "      <td>2040.000000</td>\n",
       "      <td>985.000000</td>\n",
       "      <td>2.500000</td>\n",
       "      <td>5.730026e+06</td>\n",
       "      <td>2.073600e+06</td>\n",
       "      <td>620.000000</td>\n",
       "    </tr>\n",
       "    <tr>\n",
       "      <th>75%</th>\n",
       "      <td>991.000000</td>\n",
       "      <td>15.60000</td>\n",
       "      <td>8.000000</td>\n",
       "      <td>1000.000000</td>\n",
       "      <td>1.000000</td>\n",
       "      <td>2300.000000</td>\n",
       "      <td>1477.000000</td>\n",
       "      <td>2.700000</td>\n",
       "      <td>7.750027e+06</td>\n",
       "      <td>2.073600e+06</td>\n",
       "      <td>1000.000000</td>\n",
       "    </tr>\n",
       "    <tr>\n",
       "      <th>max</th>\n",
       "      <td>1318.000000</td>\n",
       "      <td>18.40000</td>\n",
       "      <td>32.000000</td>\n",
       "      <td>512512.000000</td>\n",
       "      <td>7.000000</td>\n",
       "      <td>4600.000000</td>\n",
       "      <td>5499.000000</td>\n",
       "      <td>3.600000</td>\n",
       "      <td>7.650025e+07</td>\n",
       "      <td>8.294400e+06</td>\n",
       "      <td>960039.000000</td>\n",
       "    </tr>\n",
       "  </tbody>\n",
       "</table>\n",
       "</div>"
      ],
      "text/plain": [
       "         laptop_ID     Inches         Ram         Memory       OpSys  \\\n",
       "count   893.000000  893.00000  893.000000     893.000000  893.000000   \n",
       "mean    666.284434   15.04972    8.340426    1181.727884    1.589686   \n",
       "std     379.542827    1.35384    4.824325   17136.561483    1.462470   \n",
       "min       1.000000   10.10000    2.000000      16.000000    1.000000   \n",
       "25%     339.000000   14.00000    4.000000     256.000000    1.000000   \n",
       "50%     673.000000   15.60000    8.000000     500.000000    1.000000   \n",
       "75%     991.000000   15.60000    8.000000    1000.000000    1.000000   \n",
       "max    1318.000000   18.40000   32.000000  512512.000000    7.000000   \n",
       "\n",
       "            Weight  Price_euros     Cpu_GHz   Cpu_numbers  total_pixels  \\\n",
       "count   893.000000   893.000000  893.000000  8.930000e+02  8.930000e+02   \n",
       "mean   2037.825308  1126.348690    2.309071  6.107455e+06  2.191541e+06   \n",
       "std     650.605078   680.396361    0.502688  6.458321e+06  1.436541e+06   \n",
       "min     690.000000   199.000000    0.900000  1.100000e+01  1.049088e+06   \n",
       "25%    1540.000000   615.000000    2.000000  3.713027e+06  1.440000e+06   \n",
       "50%    2040.000000   985.000000    2.500000  5.730026e+06  2.073600e+06   \n",
       "75%    2300.000000  1477.000000    2.700000  7.750027e+06  2.073600e+06   \n",
       "max    4600.000000  5499.000000    3.600000  7.650025e+07  8.294400e+06   \n",
       "\n",
       "       Gpu_numbers\\t  \n",
       "count     893.000000  \n",
       "mean     3275.266361  \n",
       "std     45381.024817  \n",
       "min         2.000000  \n",
       "25%       520.000000  \n",
       "50%       620.000000  \n",
       "75%      1000.000000  \n",
       "max    960039.000000  "
      ]
     },
     "execution_count": 172,
     "metadata": {},
     "output_type": "execute_result"
    }
   ],
   "source": [
    "train_copy.describe()"
   ]
  },
  {
   "cell_type": "code",
   "execution_count": 57,
   "metadata": {},
   "outputs": [],
   "source": [
    "train_copy.dropna(inplace=True)\n"
   ]
  },
  {
   "cell_type": "code",
   "execution_count": 103,
   "metadata": {},
   "outputs": [
    {
     "data": {
      "text/plain": [
       "False    893\n",
       "Name: Gpu_numbers, dtype: int64"
      ]
     },
     "execution_count": 103,
     "metadata": {},
     "output_type": "execute_result"
    }
   ],
   "source": [
    "train_copy['Gpu_numbers'].isnull().value_counts()"
   ]
  },
  {
   "cell_type": "code",
   "execution_count": 173,
   "metadata": {},
   "outputs": [
    {
     "name": "stdout",
     "output_type": "stream",
     "text": [
      "<class 'pandas.core.frame.DataFrame'>\n",
      "Int64Index: 893 entries, 0 to 911\n",
      "Data columns (total 11 columns):\n",
      " #   Column        Non-Null Count  Dtype  \n",
      "---  ------        --------------  -----  \n",
      " 0   laptop_ID     893 non-null    int64  \n",
      " 1   Inches        893 non-null    float64\n",
      " 2   Ram           893 non-null    int32  \n",
      " 3   Memory        893 non-null    int64  \n",
      " 4   OpSys         893 non-null    float64\n",
      " 5   Weight        893 non-null    int64  \n",
      " 6   Price_euros   893 non-null    float64\n",
      " 7   Cpu_GHz       893 non-null    float64\n",
      " 8   Cpu_numbers   893 non-null    float64\n",
      " 9   total_pixels  893 non-null    int64  \n",
      " 10  Gpu_numbers\t  893 non-null    float64\n",
      "dtypes: float64(6), int32(1), int64(4)\n",
      "memory usage: 80.2 KB\n"
     ]
    }
   ],
   "source": [
    "train_copy.info()"
   ]
  },
  {
   "cell_type": "markdown",
   "metadata": {},
   "source": [
    "-----------------------------------------------------------------------------------------------------------------"
   ]
  },
  {
   "cell_type": "markdown",
   "metadata": {},
   "source": [
    "## Pasos que si o si debéis realizar para poder participar en la competición:"
   ]
  },
  {
   "cell_type": "markdown",
   "metadata": {},
   "source": [
    "### 1. Definir X e y"
   ]
  },
  {
   "cell_type": "code",
   "execution_count": 174,
   "metadata": {},
   "outputs": [
    {
     "data": {
      "text/plain": [
       "(893, 10)"
      ]
     },
     "execution_count": 174,
     "metadata": {},
     "output_type": "execute_result"
    }
   ],
   "source": [
    "X = train_copy.drop(['Price_euros'], axis=1)\n",
    "y = train_copy['Price_euros'].copy()\n",
    "X.shape"
   ]
  },
  {
   "cell_type": "code",
   "execution_count": 175,
   "metadata": {},
   "outputs": [
    {
     "data": {
      "text/plain": [
       "(893,)"
      ]
     },
     "execution_count": 175,
     "metadata": {},
     "output_type": "execute_result"
    }
   ],
   "source": [
    "y.shape"
   ]
  },
  {
   "cell_type": "code",
   "execution_count": 176,
   "metadata": {},
   "outputs": [
    {
     "data": {
      "text/plain": [
       "<bound method NDFrame.head of 0       387.00\n",
       "1      1379.00\n",
       "2       854.00\n",
       "4       519.00\n",
       "5      1099.00\n",
       "        ...   \n",
       "907     549.00\n",
       "908    3659.40\n",
       "909    1549.00\n",
       "910    2729.00\n",
       "911     478.89\n",
       "Name: Price_euros, Length: 893, dtype: float64>"
      ]
     },
     "execution_count": 176,
     "metadata": {},
     "output_type": "execute_result"
    }
   ],
   "source": [
    "y.head"
   ]
  },
  {
   "cell_type": "code",
   "execution_count": 177,
   "metadata": {},
   "outputs": [
    {
     "data": {
      "text/html": [
       "<div>\n",
       "<style scoped>\n",
       "    .dataframe tbody tr th:only-of-type {\n",
       "        vertical-align: middle;\n",
       "    }\n",
       "\n",
       "    .dataframe tbody tr th {\n",
       "        vertical-align: top;\n",
       "    }\n",
       "\n",
       "    .dataframe thead th {\n",
       "        text-align: right;\n",
       "    }\n",
       "</style>\n",
       "<table border=\"1\" class=\"dataframe\">\n",
       "  <thead>\n",
       "    <tr style=\"text-align: right;\">\n",
       "      <th></th>\n",
       "      <th>laptop_ID</th>\n",
       "      <th>Inches</th>\n",
       "      <th>Ram</th>\n",
       "      <th>Memory</th>\n",
       "      <th>OpSys</th>\n",
       "      <th>Weight</th>\n",
       "      <th>Cpu_GHz</th>\n",
       "      <th>Cpu_numbers</th>\n",
       "      <th>total_pixels</th>\n",
       "      <th>Gpu_numbers\\t</th>\n",
       "    </tr>\n",
       "  </thead>\n",
       "  <tbody>\n",
       "    <tr>\n",
       "      <th>0</th>\n",
       "      <td>1104</td>\n",
       "      <td>15.6</td>\n",
       "      <td>4</td>\n",
       "      <td>500</td>\n",
       "      <td>1.0</td>\n",
       "      <td>2400</td>\n",
       "      <td>2.2</td>\n",
       "      <td>8741022.0</td>\n",
       "      <td>1049088</td>\n",
       "      <td>5.0</td>\n",
       "    </tr>\n",
       "    <tr>\n",
       "      <th>1</th>\n",
       "      <td>114</td>\n",
       "      <td>13.3</td>\n",
       "      <td>8</td>\n",
       "      <td>256</td>\n",
       "      <td>1.0</td>\n",
       "      <td>1230</td>\n",
       "      <td>2.4</td>\n",
       "      <td>7756024.0</td>\n",
       "      <td>5760000</td>\n",
       "      <td>640.0</td>\n",
       "    </tr>\n",
       "    <tr>\n",
       "      <th>2</th>\n",
       "      <td>172</td>\n",
       "      <td>17.3</td>\n",
       "      <td>8</td>\n",
       "      <td>256</td>\n",
       "      <td>1.0</td>\n",
       "      <td>3000</td>\n",
       "      <td>1.6</td>\n",
       "      <td>5825016.0</td>\n",
       "      <td>2073600</td>\n",
       "      <td>150.0</td>\n",
       "    </tr>\n",
       "    <tr>\n",
       "      <th>4</th>\n",
       "      <td>447</td>\n",
       "      <td>17.3</td>\n",
       "      <td>8</td>\n",
       "      <td>1000</td>\n",
       "      <td>1.0</td>\n",
       "      <td>2800</td>\n",
       "      <td>2.5</td>\n",
       "      <td>6922025.0</td>\n",
       "      <td>1440000</td>\n",
       "      <td>4.0</td>\n",
       "    </tr>\n",
       "    <tr>\n",
       "      <th>5</th>\n",
       "      <td>1150</td>\n",
       "      <td>15.6</td>\n",
       "      <td>16</td>\n",
       "      <td>1000</td>\n",
       "      <td>1.0</td>\n",
       "      <td>2500</td>\n",
       "      <td>2.5</td>\n",
       "      <td>7650025.0</td>\n",
       "      <td>2073600</td>\n",
       "      <td>7360.0</td>\n",
       "    </tr>\n",
       "  </tbody>\n",
       "</table>\n",
       "</div>"
      ],
      "text/plain": [
       "   laptop_ID  Inches  Ram  Memory  OpSys  Weight  Cpu_GHz  Cpu_numbers  \\\n",
       "0       1104    15.6    4     500    1.0    2400      2.2    8741022.0   \n",
       "1        114    13.3    8     256    1.0    1230      2.4    7756024.0   \n",
       "2        172    17.3    8     256    1.0    3000      1.6    5825016.0   \n",
       "4        447    17.3    8    1000    1.0    2800      2.5    6922025.0   \n",
       "5       1150    15.6   16    1000    1.0    2500      2.5    7650025.0   \n",
       "\n",
       "   total_pixels  Gpu_numbers\\t  \n",
       "0       1049088            5.0  \n",
       "1       5760000          640.0  \n",
       "2       2073600          150.0  \n",
       "4       1440000            4.0  \n",
       "5       2073600         7360.0  "
      ]
     },
     "execution_count": 177,
     "metadata": {},
     "output_type": "execute_result"
    }
   ],
   "source": [
    "X.head()"
   ]
  },
  {
   "cell_type": "code",
   "execution_count": 178,
   "metadata": {},
   "outputs": [
    {
     "name": "stdout",
     "output_type": "stream",
     "text": [
      "<class 'pandas.core.frame.DataFrame'>\n",
      "Int64Index: 893 entries, 0 to 911\n",
      "Data columns (total 10 columns):\n",
      " #   Column        Non-Null Count  Dtype  \n",
      "---  ------        --------------  -----  \n",
      " 0   laptop_ID     893 non-null    int64  \n",
      " 1   Inches        893 non-null    float64\n",
      " 2   Ram           893 non-null    int32  \n",
      " 3   Memory        893 non-null    int64  \n",
      " 4   OpSys         893 non-null    float64\n",
      " 5   Weight        893 non-null    int64  \n",
      " 6   Cpu_GHz       893 non-null    float64\n",
      " 7   Cpu_numbers   893 non-null    float64\n",
      " 8   total_pixels  893 non-null    int64  \n",
      " 9   Gpu_numbers\t  893 non-null    float64\n",
      "dtypes: float64(5), int32(1), int64(4)\n",
      "memory usage: 73.3 KB\n"
     ]
    }
   ],
   "source": [
    "X.info()"
   ]
  },
  {
   "cell_type": "markdown",
   "metadata": {},
   "source": [
    "### 2. Dividir X_train, X_test, y_train, y_test"
   ]
  },
  {
   "cell_type": "code",
   "execution_count": 110,
   "metadata": {},
   "outputs": [],
   "source": [
    "from sklearn.model_selection import train_test_split"
   ]
  },
  {
   "cell_type": "code",
   "execution_count": 179,
   "metadata": {},
   "outputs": [],
   "source": [
    "X_train, X_test, y_train, y_test = train_test_split(X, y, test_size = 0.20, random_state = 42)"
   ]
  },
  {
   "cell_type": "code",
   "execution_count": 180,
   "metadata": {},
   "outputs": [
    {
     "data": {
      "text/html": [
       "<div>\n",
       "<style scoped>\n",
       "    .dataframe tbody tr th:only-of-type {\n",
       "        vertical-align: middle;\n",
       "    }\n",
       "\n",
       "    .dataframe tbody tr th {\n",
       "        vertical-align: top;\n",
       "    }\n",
       "\n",
       "    .dataframe thead th {\n",
       "        text-align: right;\n",
       "    }\n",
       "</style>\n",
       "<table border=\"1\" class=\"dataframe\">\n",
       "  <thead>\n",
       "    <tr style=\"text-align: right;\">\n",
       "      <th></th>\n",
       "      <th>laptop_ID</th>\n",
       "      <th>Inches</th>\n",
       "      <th>Ram</th>\n",
       "      <th>Memory</th>\n",
       "      <th>OpSys</th>\n",
       "      <th>Weight</th>\n",
       "      <th>Cpu_GHz</th>\n",
       "      <th>Cpu_numbers</th>\n",
       "      <th>total_pixels</th>\n",
       "      <th>Gpu_numbers\\t</th>\n",
       "    </tr>\n",
       "  </thead>\n",
       "  <tbody>\n",
       "    <tr>\n",
       "      <th>338</th>\n",
       "      <td>1018</td>\n",
       "      <td>13.3</td>\n",
       "      <td>4</td>\n",
       "      <td>128</td>\n",
       "      <td>1.0</td>\n",
       "      <td>1200</td>\n",
       "      <td>2.3</td>\n",
       "      <td>5620023.0</td>\n",
       "      <td>2073600</td>\n",
       "      <td>520.0</td>\n",
       "    </tr>\n",
       "    <tr>\n",
       "      <th>747</th>\n",
       "      <td>179</td>\n",
       "      <td>15.6</td>\n",
       "      <td>8</td>\n",
       "      <td>1000</td>\n",
       "      <td>1.0</td>\n",
       "      <td>2300</td>\n",
       "      <td>2.4</td>\n",
       "      <td>3710024.0</td>\n",
       "      <td>1049088</td>\n",
       "      <td>620.0</td>\n",
       "    </tr>\n",
       "    <tr>\n",
       "      <th>391</th>\n",
       "      <td>1232</td>\n",
       "      <td>17.3</td>\n",
       "      <td>16</td>\n",
       "      <td>1256</td>\n",
       "      <td>1.0</td>\n",
       "      <td>2900</td>\n",
       "      <td>2.8</td>\n",
       "      <td>7770028.0</td>\n",
       "      <td>2073600</td>\n",
       "      <td>1060.0</td>\n",
       "    </tr>\n",
       "    <tr>\n",
       "      <th>717</th>\n",
       "      <td>593</td>\n",
       "      <td>17.3</td>\n",
       "      <td>16</td>\n",
       "      <td>1256</td>\n",
       "      <td>1.0</td>\n",
       "      <td>3780</td>\n",
       "      <td>2.8</td>\n",
       "      <td>7770028.0</td>\n",
       "      <td>2073600</td>\n",
       "      <td>1050.0</td>\n",
       "    </tr>\n",
       "    <tr>\n",
       "      <th>827</th>\n",
       "      <td>253</td>\n",
       "      <td>13.3</td>\n",
       "      <td>4</td>\n",
       "      <td>500</td>\n",
       "      <td>1.0</td>\n",
       "      <td>1490</td>\n",
       "      <td>1.6</td>\n",
       "      <td>5825016.0</td>\n",
       "      <td>2073600</td>\n",
       "      <td>620.0</td>\n",
       "    </tr>\n",
       "    <tr>\n",
       "      <th>...</th>\n",
       "      <td>...</td>\n",
       "      <td>...</td>\n",
       "      <td>...</td>\n",
       "      <td>...</td>\n",
       "      <td>...</td>\n",
       "      <td>...</td>\n",
       "      <td>...</td>\n",
       "      <td>...</td>\n",
       "      <td>...</td>\n",
       "      <td>...</td>\n",
       "    </tr>\n",
       "    <tr>\n",
       "      <th>108</th>\n",
       "      <td>554</td>\n",
       "      <td>15.6</td>\n",
       "      <td>4</td>\n",
       "      <td>1000</td>\n",
       "      <td>6.0</td>\n",
       "      <td>2150</td>\n",
       "      <td>2.3</td>\n",
       "      <td>5620023.0</td>\n",
       "      <td>2073600</td>\n",
       "      <td>520.0</td>\n",
       "    </tr>\n",
       "    <tr>\n",
       "      <th>275</th>\n",
       "      <td>950</td>\n",
       "      <td>15.6</td>\n",
       "      <td>4</td>\n",
       "      <td>1000</td>\n",
       "      <td>1.0</td>\n",
       "      <td>2180</td>\n",
       "      <td>2.0</td>\n",
       "      <td>3600620.0</td>\n",
       "      <td>1049088</td>\n",
       "      <td>520.0</td>\n",
       "    </tr>\n",
       "    <tr>\n",
       "      <th>878</th>\n",
       "      <td>1040</td>\n",
       "      <td>14.0</td>\n",
       "      <td>4</td>\n",
       "      <td>500</td>\n",
       "      <td>1.0</td>\n",
       "      <td>2310</td>\n",
       "      <td>2.5</td>\n",
       "      <td>5720025.0</td>\n",
       "      <td>1049088</td>\n",
       "      <td>620.0</td>\n",
       "    </tr>\n",
       "    <tr>\n",
       "      <th>445</th>\n",
       "      <td>82</td>\n",
       "      <td>15.6</td>\n",
       "      <td>8</td>\n",
       "      <td>256</td>\n",
       "      <td>1.0</td>\n",
       "      <td>1880</td>\n",
       "      <td>1.6</td>\n",
       "      <td>5825016.0</td>\n",
       "      <td>2073600</td>\n",
       "      <td>620.0</td>\n",
       "    </tr>\n",
       "    <tr>\n",
       "      <th>104</th>\n",
       "      <td>42</td>\n",
       "      <td>15.6</td>\n",
       "      <td>16</td>\n",
       "      <td>1256</td>\n",
       "      <td>1.0</td>\n",
       "      <td>2650</td>\n",
       "      <td>2.8</td>\n",
       "      <td>7770028.0</td>\n",
       "      <td>2073600</td>\n",
       "      <td>1060.0</td>\n",
       "    </tr>\n",
       "  </tbody>\n",
       "</table>\n",
       "<p>714 rows × 10 columns</p>\n",
       "</div>"
      ],
      "text/plain": [
       "     laptop_ID  Inches  Ram  Memory  OpSys  Weight  Cpu_GHz  Cpu_numbers  \\\n",
       "338       1018    13.3    4     128    1.0    1200      2.3    5620023.0   \n",
       "747        179    15.6    8    1000    1.0    2300      2.4    3710024.0   \n",
       "391       1232    17.3   16    1256    1.0    2900      2.8    7770028.0   \n",
       "717        593    17.3   16    1256    1.0    3780      2.8    7770028.0   \n",
       "827        253    13.3    4     500    1.0    1490      1.6    5825016.0   \n",
       "..         ...     ...  ...     ...    ...     ...      ...          ...   \n",
       "108        554    15.6    4    1000    6.0    2150      2.3    5620023.0   \n",
       "275        950    15.6    4    1000    1.0    2180      2.0    3600620.0   \n",
       "878       1040    14.0    4     500    1.0    2310      2.5    5720025.0   \n",
       "445         82    15.6    8     256    1.0    1880      1.6    5825016.0   \n",
       "104         42    15.6   16    1256    1.0    2650      2.8    7770028.0   \n",
       "\n",
       "     total_pixels  Gpu_numbers\\t  \n",
       "338       2073600          520.0  \n",
       "747       1049088          620.0  \n",
       "391       2073600         1060.0  \n",
       "717       2073600         1050.0  \n",
       "827       2073600          620.0  \n",
       "..            ...            ...  \n",
       "108       2073600          520.0  \n",
       "275       1049088          520.0  \n",
       "878       1049088          620.0  \n",
       "445       2073600          620.0  \n",
       "104       2073600         1060.0  \n",
       "\n",
       "[714 rows x 10 columns]"
      ]
     },
     "execution_count": 180,
     "metadata": {},
     "output_type": "execute_result"
    }
   ],
   "source": [
    "X_train"
   ]
  },
  {
   "cell_type": "markdown",
   "metadata": {},
   "source": [
    "### 3. Asignar el modelo (vacío) a una variable\n"
   ]
  },
  {
   "cell_type": "code",
   "execution_count": 113,
   "metadata": {},
   "outputs": [],
   "source": [
    "from sklearn.linear_model import LinearRegression\n",
    "\n",
    "modelo = LinearRegression()"
   ]
  },
  {
   "cell_type": "code",
   "execution_count": 181,
   "metadata": {},
   "outputs": [
    {
     "data": {
      "text/plain": [
       "LinearRegression()"
      ]
     },
     "execution_count": 181,
     "metadata": {},
     "output_type": "execute_result"
    }
   ],
   "source": [
    "modelo.fit(X_train, y_train)"
   ]
  },
  {
   "cell_type": "code",
   "execution_count": 182,
   "metadata": {},
   "outputs": [],
   "source": [
    "predicciones = modelo.predict(X_test)"
   ]
  },
  {
   "cell_type": "code",
   "execution_count": 183,
   "metadata": {},
   "outputs": [
    {
     "data": {
      "text/plain": [
       "array([ 662.24814505,  848.98390604, 1217.71578084,  687.14288334,\n",
       "       1963.79604141, 1275.86519961,  213.74500927,  650.31985123,\n",
       "       2423.3590235 ,  389.73446749, 1305.37588831, 1154.7639413 ,\n",
       "       1232.83494298,  299.01732776,  728.42098621, 3102.13996521,\n",
       "       1143.2099192 , 2422.07355992, 1297.9375066 , 1518.09116885,\n",
       "       1254.14732305, 1248.04261008,  589.33028747,  857.3068091 ,\n",
       "       1778.44634159, 1161.44648712,  720.18830362, 1177.09964982,\n",
       "       1308.90460794,  744.67059151, 1235.59537818,  391.01993107,\n",
       "       1276.4839859 , 1202.26032631, 2463.31665522, 1749.74613226,\n",
       "        467.82919387,  719.32832074,  383.00441855, 1489.1805473 ,\n",
       "        265.33209073,  989.37605541, 1154.83449858, 1230.57182872,\n",
       "        512.60985982, 1247.20530974, 1206.24710627, 1695.15307945,\n",
       "        973.74120915,  690.65997177, 1402.38488203,  647.27878674,\n",
       "        795.05373764,  713.68850456, 1611.42120366,  841.1220386 ,\n",
       "        718.47255027,  844.17849895,  474.75373013,  458.25225576,\n",
       "        734.88843533, 1392.23334201, 1178.52198697, 1063.59753069,\n",
       "       1110.39071024,  808.35292695,  802.42371241, 1290.62836643,\n",
       "        803.76929457, 1842.2238429 ,  616.00955969,  950.56576451,\n",
       "        858.00029557, 2415.51308336,  502.22816656, 1783.36336825,\n",
       "       1151.11703178,  503.27135353, 1840.2531181 ,  464.60518113,\n",
       "        690.7122236 ,  939.17379912,  304.75514696, 1114.83667367,\n",
       "       1129.74066857, 1063.45056049, 1133.15610694,  613.18781019,\n",
       "        550.49766396,  865.44608108,  658.65108523,  916.9887935 ,\n",
       "        934.32545989,  912.86075064, 1102.2550789 , 1069.40404605,\n",
       "       1045.39618382,  577.0246801 ,  915.03100521,  902.30805298,\n",
       "        846.41682661,  718.9821648 ,  831.40913971, 1996.12284203,\n",
       "       1214.46367006, 1086.66743391,  369.66259965,  693.26966181,\n",
       "       1233.54817117,  951.6322774 , 2719.54213049,  480.69097826,\n",
       "        269.4600464 ,  430.82865587, 1171.32578029, 1300.62399105,\n",
       "        726.96279484,  303.46968338,  694.07069525, 2664.81682311,\n",
       "       2252.91408265, 1668.78609198, 1109.62810807, 1045.43849855,\n",
       "        985.6434331 ,  510.59052818,  901.0579023 , 1955.74790801,\n",
       "        877.43812174, 1384.481689  , 1089.36615953,  515.5853069 ,\n",
       "       1147.64160398, 1021.42440823,  602.45319627, 1167.09779615,\n",
       "       1260.59194041,  659.43176788,  690.79074866,  666.70026523,\n",
       "        665.00438549,  641.31201807,  916.40264568,  682.55228657,\n",
       "        460.54480184, 1104.91136634, 1147.17221286, 1781.22369195,\n",
       "       1926.96351998,  985.43762948, 1087.8355457 , 1841.04779078,\n",
       "       1174.04563816, 1805.66599655,  933.16603976, 1554.21856947,\n",
       "        740.42327708, 2650.65617817, 1888.07343674, 2686.1353559 ,\n",
       "       1813.48918069,  654.66554643,  876.15265816,  967.55921727,\n",
       "       1183.0696057 , 1028.47953012,  375.61066069,  267.31769042,\n",
       "        966.6906183 ,  522.95624771,  526.10343217, 1244.26454196,\n",
       "       1154.37643741, 1318.47345831, 1002.80527571, 1816.24370299,\n",
       "       1212.32458193, 1196.25275751, 1740.48248166])"
      ]
     },
     "execution_count": 183,
     "metadata": {},
     "output_type": "execute_result"
    }
   ],
   "source": [
    "predicciones"
   ]
  },
  {
   "attachments": {},
   "cell_type": "markdown",
   "metadata": {},
   "source": [
    "### 4. Sacar métricas, valorar el modelo \n",
    "\n",
    "Recuerda que en la competición se va a evaluar con la métrica de MAE. "
   ]
  },
  {
   "cell_type": "code",
   "execution_count": 184,
   "metadata": {},
   "outputs": [
    {
     "name": "stdout",
     "output_type": "stream",
     "text": [
      "RMSE 168981.22515934194\n"
     ]
    }
   ],
   "source": [
    "from sklearn.metrics import mean_squared_error, r2_score, mean_absolute_error\n",
    "\n",
    "print('RMSE',mean_squared_error(y_test, predicciones))"
   ]
  },
  {
   "cell_type": "markdown",
   "metadata": {},
   "source": [
    "-----------------------------------------------------------------"
   ]
  },
  {
   "cell_type": "markdown",
   "metadata": {},
   "source": [
    "## Una vez listo el modelo, toca predecir con el dataset de predicción "
   ]
  },
  {
   "cell_type": "markdown",
   "metadata": {},
   "source": [
    "Definición de **modelo que está listo**. \n",
    "\n",
    "Tras hacer suficientes pruebas, analizar los datos, hacer feature engineering, probar diferentes modelos con diferentes parámetros, es con este con el que observo mejores métricas y menos overfitting. ¡Cuidado con el overfitting aquí! Si vuestro modelo aprende muy bien de estos datos pero hay overfitting cuando le pasemos los datos desconocidos de `test.csv` nos arriesgamos a que digamos, no salga lo esperado."
   ]
  },
  {
   "cell_type": "markdown",
   "metadata": {},
   "source": [
    "### 1. Entrena dicho modelo con TODOS tus datos de train, esto es con `train.csv` al completo.\n",
    "\n",
    "\n",
    "**CON LAS TRANSFORMACIONES QUE LE HAYAS REALIZADO A `X` INCLUÍDAS.**\n",
    "\n",
    "\n",
    "Véase:\n",
    "- Estandarización/Normalización\n",
    "- Eliminación de Outliers\n",
    "- Eliminación de columnas\n",
    "- Creación de columnas nuevas\n",
    "- Gestión de valores nulos\n",
    "- Y un largo etcétera de técnicas que como Data Scientist hayas considerado las mejores para tu dataset."
   ]
  },
  {
   "cell_type": "code",
   "execution_count": null,
   "metadata": {},
   "outputs": [],
   "source": []
  },
  {
   "cell_type": "markdown",
   "metadata": {},
   "source": [
    "### 2. Carga los datos de `test.csv` para predecir."
   ]
  },
  {
   "cell_type": "code",
   "execution_count": 185,
   "metadata": {},
   "outputs": [
    {
     "data": {
      "text/html": [
       "<div>\n",
       "<style scoped>\n",
       "    .dataframe tbody tr th:only-of-type {\n",
       "        vertical-align: middle;\n",
       "    }\n",
       "\n",
       "    .dataframe tbody tr th {\n",
       "        vertical-align: top;\n",
       "    }\n",
       "\n",
       "    .dataframe thead th {\n",
       "        text-align: right;\n",
       "    }\n",
       "</style>\n",
       "<table border=\"1\" class=\"dataframe\">\n",
       "  <thead>\n",
       "    <tr style=\"text-align: right;\">\n",
       "      <th></th>\n",
       "      <th>laptop_ID</th>\n",
       "      <th>Company</th>\n",
       "      <th>Product</th>\n",
       "      <th>TypeName</th>\n",
       "      <th>Inches</th>\n",
       "      <th>ScreenResolution</th>\n",
       "      <th>Cpu</th>\n",
       "      <th>Ram</th>\n",
       "      <th>Memory</th>\n",
       "      <th>Gpu</th>\n",
       "      <th>OpSys</th>\n",
       "      <th>Weight</th>\n",
       "    </tr>\n",
       "  </thead>\n",
       "  <tbody>\n",
       "    <tr>\n",
       "      <th>0</th>\n",
       "      <td>750</td>\n",
       "      <td>Toshiba</td>\n",
       "      <td>Tecra X40-D-10G</td>\n",
       "      <td>Notebook</td>\n",
       "      <td>14.0</td>\n",
       "      <td>IPS Panel Full HD / Touchscreen 1920x1080</td>\n",
       "      <td>Intel Core i5 7200U 2.5GHz</td>\n",
       "      <td>8GB</td>\n",
       "      <td>256GB SSD</td>\n",
       "      <td>Intel HD Graphics 620</td>\n",
       "      <td>Windows 10</td>\n",
       "      <td>1.25kg</td>\n",
       "    </tr>\n",
       "    <tr>\n",
       "      <th>1</th>\n",
       "      <td>726</td>\n",
       "      <td>Mediacom</td>\n",
       "      <td>Smartbook 142</td>\n",
       "      <td>Notebook</td>\n",
       "      <td>14.0</td>\n",
       "      <td>IPS Panel Full HD 1920x1200</td>\n",
       "      <td>Intel Atom Z8350 1.92GHz</td>\n",
       "      <td>4GB</td>\n",
       "      <td>32GB HDD</td>\n",
       "      <td>Intel HD Graphics 400</td>\n",
       "      <td>Windows 10</td>\n",
       "      <td>1.4kg</td>\n",
       "    </tr>\n",
       "    <tr>\n",
       "      <th>2</th>\n",
       "      <td>633</td>\n",
       "      <td>Mediacom</td>\n",
       "      <td>SmartBook 140</td>\n",
       "      <td>Notebook</td>\n",
       "      <td>14.0</td>\n",
       "      <td>Full HD 1920x1080</td>\n",
       "      <td>Intel Atom x5-Z8350 1.44GHz</td>\n",
       "      <td>2GB</td>\n",
       "      <td>32GB Flash Storage</td>\n",
       "      <td>Intel HD Graphics</td>\n",
       "      <td>Windows 10</td>\n",
       "      <td>1.4kg</td>\n",
       "    </tr>\n",
       "    <tr>\n",
       "      <th>3</th>\n",
       "      <td>363</td>\n",
       "      <td>Dell</td>\n",
       "      <td>Inspiron 7577</td>\n",
       "      <td>Gaming</td>\n",
       "      <td>15.6</td>\n",
       "      <td>Full HD 1920x1080</td>\n",
       "      <td>Intel Core i5 7300HQ 2.5GHz</td>\n",
       "      <td>8GB</td>\n",
       "      <td>1TB HDD</td>\n",
       "      <td>Nvidia GeForce GTX 1050</td>\n",
       "      <td>Windows 10</td>\n",
       "      <td>2.65kg</td>\n",
       "    </tr>\n",
       "    <tr>\n",
       "      <th>4</th>\n",
       "      <td>319</td>\n",
       "      <td>Asus</td>\n",
       "      <td>VivoBook Flip</td>\n",
       "      <td>2 in 1 Convertible</td>\n",
       "      <td>11.6</td>\n",
       "      <td>Touchscreen 1366x768</td>\n",
       "      <td>Intel Celeron Dual Core N3350 1.1GHz</td>\n",
       "      <td>2GB</td>\n",
       "      <td>32GB Flash Storage</td>\n",
       "      <td>Intel HD Graphics 500</td>\n",
       "      <td>Windows 10</td>\n",
       "      <td>1.1kg</td>\n",
       "    </tr>\n",
       "  </tbody>\n",
       "</table>\n",
       "</div>"
      ],
      "text/plain": [
       "   laptop_ID   Company          Product            TypeName  Inches  \\\n",
       "0        750   Toshiba  Tecra X40-D-10G            Notebook    14.0   \n",
       "1        726  Mediacom    Smartbook 142            Notebook    14.0   \n",
       "2        633  Mediacom    SmartBook 140            Notebook    14.0   \n",
       "3        363      Dell    Inspiron 7577              Gaming    15.6   \n",
       "4        319      Asus    VivoBook Flip  2 in 1 Convertible    11.6   \n",
       "\n",
       "                            ScreenResolution  \\\n",
       "0  IPS Panel Full HD / Touchscreen 1920x1080   \n",
       "1                IPS Panel Full HD 1920x1200   \n",
       "2                          Full HD 1920x1080   \n",
       "3                          Full HD 1920x1080   \n",
       "4                       Touchscreen 1366x768   \n",
       "\n",
       "                                    Cpu  Ram              Memory  \\\n",
       "0            Intel Core i5 7200U 2.5GHz  8GB           256GB SSD   \n",
       "1              Intel Atom Z8350 1.92GHz  4GB            32GB HDD   \n",
       "2           Intel Atom x5-Z8350 1.44GHz  2GB  32GB Flash Storage   \n",
       "3           Intel Core i5 7300HQ 2.5GHz  8GB             1TB HDD   \n",
       "4  Intel Celeron Dual Core N3350 1.1GHz  2GB  32GB Flash Storage   \n",
       "\n",
       "                       Gpu       OpSys  Weight  \n",
       "0    Intel HD Graphics 620  Windows 10  1.25kg  \n",
       "1    Intel HD Graphics 400  Windows 10   1.4kg  \n",
       "2        Intel HD Graphics  Windows 10   1.4kg  \n",
       "3  Nvidia GeForce GTX 1050  Windows 10  2.65kg  \n",
       "4    Intel HD Graphics 500  Windows 10   1.1kg  "
      ]
     },
     "execution_count": 185,
     "metadata": {},
     "output_type": "execute_result"
    }
   ],
   "source": [
    "test_pred = pd.read_csv(\"data/test.csv\")\n",
    "test_pred.head()"
   ]
  },
  {
   "cell_type": "code",
   "execution_count": 186,
   "metadata": {},
   "outputs": [],
   "source": [
    "test_pred_copy = test_pred.copy()"
   ]
  },
  {
   "cell_type": "code",
   "execution_count": 187,
   "metadata": {},
   "outputs": [
    {
     "data": {
      "text/html": [
       "<div>\n",
       "<style scoped>\n",
       "    .dataframe tbody tr th:only-of-type {\n",
       "        vertical-align: middle;\n",
       "    }\n",
       "\n",
       "    .dataframe tbody tr th {\n",
       "        vertical-align: top;\n",
       "    }\n",
       "\n",
       "    .dataframe thead th {\n",
       "        text-align: right;\n",
       "    }\n",
       "</style>\n",
       "<table border=\"1\" class=\"dataframe\">\n",
       "  <thead>\n",
       "    <tr style=\"text-align: right;\">\n",
       "      <th></th>\n",
       "      <th>laptop_ID</th>\n",
       "      <th>Company</th>\n",
       "      <th>Product</th>\n",
       "      <th>TypeName</th>\n",
       "      <th>Inches</th>\n",
       "      <th>ScreenResolution</th>\n",
       "      <th>Cpu</th>\n",
       "      <th>Ram</th>\n",
       "      <th>Memory</th>\n",
       "      <th>Gpu</th>\n",
       "      <th>OpSys</th>\n",
       "      <th>Weight</th>\n",
       "    </tr>\n",
       "  </thead>\n",
       "  <tbody>\n",
       "  </tbody>\n",
       "</table>\n",
       "</div>"
      ],
      "text/plain": [
       "Empty DataFrame\n",
       "Columns: [laptop_ID, Company, Product, TypeName, Inches, ScreenResolution, Cpu, Ram, Memory, Gpu, OpSys, Weight]\n",
       "Index: []"
      ]
     },
     "execution_count": 187,
     "metadata": {},
     "output_type": "execute_result"
    }
   ],
   "source": [
    "test_pred_copy[test_pred_copy.isnull().any(axis=1)]"
   ]
  },
  {
   "cell_type": "code",
   "execution_count": 188,
   "metadata": {},
   "outputs": [],
   "source": [
    "test_pred_copy.drop(['TypeName','Product','Company'],axis=1, inplace=True)"
   ]
  },
  {
   "cell_type": "code",
   "execution_count": 189,
   "metadata": {},
   "outputs": [],
   "source": [
    "test_pred_copy.dropna(axis=0, inplace=True)"
   ]
  },
  {
   "cell_type": "code",
   "execution_count": 190,
   "metadata": {},
   "outputs": [],
   "source": [
    "def remove_str_and_convert_to_int(df, column_name,):\n",
    "    df[column_name] = df[column_name].str.replace('\\D+', '').astype(int)"
   ]
  },
  {
   "cell_type": "code",
   "execution_count": 191,
   "metadata": {},
   "outputs": [
    {
     "name": "stderr",
     "output_type": "stream",
     "text": [
      "C:\\Users\\varel\\AppData\\Local\\Packages\\PythonSoftwareFoundation.Python.3.7_qbz5n2kfra8p0\\LocalCache\\local-packages\\Python37\\site-packages\\ipykernel_launcher.py:2: FutureWarning: The default value of regex will change from True to False in a future version.\n",
      "  \n"
     ]
    }
   ],
   "source": [
    "# Eliminamos los str de la columna Memory\n",
    "remove_str_and_convert_to_int(test_pred_copy, 'Memory')\n",
    "\n",
    "# Eliminamos los str de la columna Ram\n",
    "remove_str_and_convert_to_int(test_pred_copy,'Ram')"
   ]
  },
  {
   "cell_type": "code",
   "execution_count": 192,
   "metadata": {},
   "outputs": [],
   "source": [
    "def remove_str_and_convert_to_float(df, column_name):\n",
    "    df[column_name] = df[column_name].str.replace('\\D+', '').astype(float)"
   ]
  },
  {
   "cell_type": "code",
   "execution_count": 193,
   "metadata": {},
   "outputs": [],
   "source": [
    "#hacemos un ramplazo para normalizar los valores \n",
    "\n",
    "test_pred_copy['Memory'] = test_pred_copy['Memory'].replace({1: 1000, 10: 1000, 256500: 756, 1281: 1128, 2561: 1256, \n",
    "                                                       5121: 1512, 512256: 768,  5122: 2512, \n",
    "                                                       256256: 512, 11: 2000, 2: 2000})"
   ]
  },
  {
   "cell_type": "code",
   "execution_count": 194,
   "metadata": {},
   "outputs": [],
   "source": [
    "# Eliminamos el str Kg de la columna Weight y normalizamos los valores \n",
    "\n",
    "test_pred_copy['Weight'] = test_pred_copy['Weight'].apply(lambda x: int(float(x.replace('kg', '').strip()) * 1000))"
   ]
  },
  {
   "cell_type": "code",
   "execution_count": 195,
   "metadata": {},
   "outputs": [],
   "source": [
    "test_pred_copy[\"OpSys\"] = test_pred_copy[\"OpSys\"].replace(\"No OS\", \"macOS\")"
   ]
  },
  {
   "cell_type": "code",
   "execution_count": 196,
   "metadata": {},
   "outputs": [],
   "source": [
    "# cada sistema operativo se convertirá en un número entero en la columna \"OpSys\".\n",
    "\n",
    "os_dict = {'Windows 10': 1,  'Linux': 2, 'Mac OS X': 3, 'Windows 7': 4, 'Chrome OS': 5, 'macOS': 6, 'Windows 10 S': 7}\n",
    "test_pred_copy['OpSys'] = test_pred_copy['OpSys'].map(os_dict)"
   ]
  },
  {
   "cell_type": "code",
   "execution_count": 197,
   "metadata": {},
   "outputs": [],
   "source": [
    "def extract_speed(text):\n",
    "    speed = re.findall(r'\\d+\\.*\\d*GHz', text)[0]\n",
    "    speed = speed.replace('GHz', '')\n",
    "    return float(speed)"
   ]
  },
  {
   "cell_type": "code",
   "execution_count": 198,
   "metadata": {},
   "outputs": [],
   "source": [
    "test_pred_copy['Cpu_GHz'] = test_pred_copy['Cpu'].apply(extract_speed).astype(float)"
   ]
  },
  {
   "cell_type": "code",
   "execution_count": 199,
   "metadata": {},
   "outputs": [],
   "source": [
    "def split_cpu(cpu):\n",
    "    letters = ''.join(filter(str.isalpha, cpu))\n",
    "    numbers = ''.join(filter(str.isdigit, cpu))\n",
    "    return letters, numbers\n"
   ]
  },
  {
   "cell_type": "code",
   "execution_count": 200,
   "metadata": {},
   "outputs": [],
   "source": [
    "test_pred_copy[['Cpu_letters', 'Cpu_numbers']] = test_pred_copy['Cpu'].apply(split_cpu).apply(pd.Series)\n"
   ]
  },
  {
   "cell_type": "code",
   "execution_count": 201,
   "metadata": {},
   "outputs": [],
   "source": [
    "test_pred_copy[['Gpu_letters', 'Gpu_numbers']] = test_pred_copy['Gpu'].apply(split_cpu).apply(pd.Series)"
   ]
  },
  {
   "cell_type": "code",
   "execution_count": 202,
   "metadata": {},
   "outputs": [
    {
     "name": "stdout",
     "output_type": "stream",
     "text": [
      "                              ScreenResolution resolucion_x resolucion_y\n",
      "0    IPS Panel Full HD / Touchscreen 1920x1080         1920         1080\n",
      "1                  IPS Panel Full HD 1920x1200         1920         1200\n",
      "2                            Full HD 1920x1080         1920         1080\n",
      "3                            Full HD 1920x1080         1920         1080\n",
      "4                         Touchscreen 1366x768         1366          768\n",
      "..                                         ...          ...          ...\n",
      "386                          Full HD 1920x1080         1920         1080\n",
      "387        Touchscreen / 4K Ultra HD 3840x2160         3840         2160\n",
      "388                          Full HD 1920x1080         1920         1080\n",
      "389                                   1366x768         1366          768\n",
      "390        4K Ultra HD / Touchscreen 3840x2160         3840         2160\n",
      "\n",
      "[391 rows x 3 columns]\n"
     ]
    }
   ],
   "source": [
    "\n",
    "\n",
    "# Aplicar la función str.extract() para extraer los números\n",
    "test_pred_copy[['resolucion_x', 'resolucion_y']] = test_pred_copy['ScreenResolution'].str.extract('(\\d+)x(\\d+)', expand=True)\n",
    "\n",
    "# Imprimir el resultado\n",
    "print(test_pred_copy[['ScreenResolution', 'resolucion_x', 'resolucion_y']])\n"
   ]
  },
  {
   "cell_type": "code",
   "execution_count": 203,
   "metadata": {},
   "outputs": [],
   "source": [
    "test_pred_copy['total_pixels'] = test_pred_copy.apply(lambda row: int(row['resolucion_x']) * int(row['resolucion_y']), axis=1)\n"
   ]
  },
  {
   "cell_type": "code",
   "execution_count": 204,
   "metadata": {},
   "outputs": [],
   "source": [
    "# Se eliminan las columnas que no son necesarias \n",
    "test_pred_copy.drop(['ScreenResolution','Cpu','Gpu','resolucion_x','resolucion_y'],axis=1, inplace=True)"
   ]
  },
  {
   "cell_type": "code",
   "execution_count": 205,
   "metadata": {},
   "outputs": [],
   "source": [
    "test_pred_copy.drop(['Gpu_letters','Cpu_letters'],axis=1, inplace=True)"
   ]
  },
  {
   "cell_type": "code",
   "execution_count": 211,
   "metadata": {},
   "outputs": [],
   "source": [
    "test_pred_copy['Gpu_numbers\t'] = test_pred_copy['Gpu_numbers'].str.strip()\n"
   ]
  },
  {
   "cell_type": "code",
   "execution_count": 212,
   "metadata": {},
   "outputs": [],
   "source": [
    "test_pred_copy['Cpu_numbers'] = test_pred_copy['Cpu_numbers'].astype(float)\n"
   ]
  },
  {
   "cell_type": "code",
   "execution_count": 213,
   "metadata": {},
   "outputs": [],
   "source": [
    "test_pred_copy['Gpu_numbers\\t'] = pd.to_numeric(test_pred_copy['Gpu_numbers\\t']).astype(float)\n"
   ]
  },
  {
   "cell_type": "code",
   "execution_count": 214,
   "metadata": {},
   "outputs": [],
   "source": [
    "test_pred_copy['Gpu_numbers\\t'] = test_pred_copy['Gpu_numbers\\t'].fillna(test_pred_copy['Gpu_numbers\\t'].mean())\n"
   ]
  },
  {
   "cell_type": "code",
   "execution_count": 215,
   "metadata": {},
   "outputs": [],
   "source": [
    "test_pred_copy['OpSys'] = test_pred_copy['OpSys'].fillna(test_pred_copy['OpSys'].mean())\n"
   ]
  },
  {
   "cell_type": "code",
   "execution_count": 217,
   "metadata": {},
   "outputs": [],
   "source": [
    "test_pred_copy.drop(['Gpu_numbers'],axis=1, inplace=True)"
   ]
  },
  {
   "cell_type": "code",
   "execution_count": 134,
   "metadata": {},
   "outputs": [],
   "source": [
    "# test_pred_copy['Gpu_numbers'] = pd.to_numeric(test_pred_copy['Gpu_numbers'], errors='coerce')\n"
   ]
  },
  {
   "cell_type": "code",
   "execution_count": 135,
   "metadata": {},
   "outputs": [],
   "source": [
    "# test_pred_copy['Cpu_numbers'] = pd.to_numeric(test_pred_copy['Cpu_numbers'], errors='coerce')\n"
   ]
  },
  {
   "cell_type": "code",
   "execution_count": 103,
   "metadata": {},
   "outputs": [],
   "source": [
    "# test_pred_copy.dropna(inplace=True)\n"
   ]
  },
  {
   "cell_type": "code",
   "execution_count": 208,
   "metadata": {},
   "outputs": [],
   "source": [
    "test_pred_copy.fillna(value=0, inplace=True)"
   ]
  },
  {
   "cell_type": "code",
   "execution_count": 218,
   "metadata": {},
   "outputs": [
    {
     "name": "stdout",
     "output_type": "stream",
     "text": [
      "<class 'pandas.core.frame.DataFrame'>\n",
      "Int64Index: 391 entries, 0 to 390\n",
      "Data columns (total 10 columns):\n",
      " #   Column        Non-Null Count  Dtype  \n",
      "---  ------        --------------  -----  \n",
      " 0   laptop_ID     391 non-null    int64  \n",
      " 1   Inches        391 non-null    float64\n",
      " 2   Ram           391 non-null    int32  \n",
      " 3   Memory        391 non-null    int64  \n",
      " 4   OpSys         391 non-null    float64\n",
      " 5   Weight        391 non-null    int64  \n",
      " 6   Cpu_GHz       391 non-null    float64\n",
      " 7   Cpu_numbers   391 non-null    float64\n",
      " 8   total_pixels  391 non-null    int64  \n",
      " 9   Gpu_numbers\t  391 non-null    float64\n",
      "dtypes: float64(5), int32(1), int64(4)\n",
      "memory usage: 32.1 KB\n"
     ]
    }
   ],
   "source": [
    "test_pred_copy.info()"
   ]
  },
  {
   "cell_type": "code",
   "execution_count": null,
   "metadata": {},
   "outputs": [],
   "source": []
  },
  {
   "cell_type": "code",
   "execution_count": 219,
   "metadata": {},
   "outputs": [
    {
     "data": {
      "text/plain": [
       "array([1184.6662247 ,  749.63436353,  460.86844627, 1122.94913441,\n",
       "        342.10140229,  590.75344232,  435.3371096 , 1831.86463752,\n",
       "       1735.6001092 , 1254.54605562,  994.15734214,  974.25356861,\n",
       "       1110.41589939,  936.0587005 ,  572.93775015, 1063.93486142,\n",
       "        934.91955911, 1951.44146341,  533.0607562 , 1168.27052681,\n",
       "       1180.5264641 ,  991.86291687,  581.22464698, 1004.86774688,\n",
       "        365.88796207, 1391.02900384,  878.72358532,  754.84676021,\n",
       "       1608.12230311, 1233.24892093,  851.7515829 , 1140.77147284,\n",
       "       1000.4441345 , 1171.10543682, 1180.79732988, 1206.25821911,\n",
       "       1162.07698643, 1445.18011476,  837.03083637, 1886.44813281,\n",
       "       1809.41366367, 1079.33213234,  493.42683502, 1588.32382286,\n",
       "        796.39510438, 1888.97370043, 1216.2984733 , 1733.32604139,\n",
       "       1031.56055824, 1753.2508967 ,  771.78882485,  617.33245666,\n",
       "       1078.23371095, 1058.7583788 ,  430.85430156,  804.13348991,\n",
       "       1073.45619412,  688.17285333, 1278.85016689, 1263.3631708 ,\n",
       "        488.99724926, 1203.01464724, 1137.89248237,  533.13247163,\n",
       "        873.15619275, 1122.99765271, 1768.5887189 , 1732.56614074,\n",
       "       1098.54360656,  783.14286099,  243.25017019, 1285.60972076,\n",
       "       3140.55094464, 1646.08215321, 1010.66936155,  831.37590318,\n",
       "        586.44325848, 2161.1173307 ,  986.20998431, 1215.83590531,\n",
       "        645.41038884, 1714.24104051, 1194.03750517, 1857.59633693,\n",
       "        999.54460977, 1109.68976774,  842.40750218, 1022.0378727 ,\n",
       "        549.88054616,  781.94145847, 1780.58037585,  969.88679184,\n",
       "        234.96337258, 2047.17517884, 1110.1260046 , 1278.49107696,\n",
       "       1180.93990413,  462.14578503,  511.58442477,  736.22448613,\n",
       "       1166.21614124,  809.62748914,  816.18466909,  717.92778636,\n",
       "       1789.83450287,  614.56654525, 2640.27251169, 1138.76207773,\n",
       "       2642.17743375, 1115.20149215, 1298.84635123,  981.34086248,\n",
       "       1299.84871734, 1696.57951936, 1355.43009005, 1557.66466988,\n",
       "        965.32232165, 2417.80887185,  901.95641987, 1301.1932289 ,\n",
       "       1032.51151507, 1271.51347747, 1839.08921672, 1242.44433264,\n",
       "        816.28150745, 1194.67892177,  338.91972898, 1115.76660773,\n",
       "        894.17810543, 1187.34197394,  554.29686099, 1107.01770243,\n",
       "       1183.62622706,  630.68735343,  990.24339717, 1846.29291951,\n",
       "       1560.37007782, 1694.93256121, 1826.26888691,  951.68058541,\n",
       "        914.55729252, 1205.62502439,  829.31134117, 1931.44527461,\n",
       "       1784.6718437 ,  466.15432189, 1823.66515119, 1168.01702641,\n",
       "       1064.62231376, 1137.02957114, 1767.73887279, 1224.97848788,\n",
       "       1798.50149644,  261.00507984, 1722.49453663, 1042.05952089,\n",
       "       1215.79953755,  911.13045015, 1065.60622009, 1448.68305705,\n",
       "       3858.31817499, 1218.78041044, 1076.59196444,  707.72704115,\n",
       "        949.20084246, 3200.82630537, 1194.6985424 , 1055.94642649,\n",
       "        921.55748885, 1056.45627653,  467.40651245,  855.32510278,\n",
       "        967.38947978,  833.03363485, 1872.36773907,  570.64406222,\n",
       "        949.22702831, 1770.33352733, 1312.5159173 ,  489.98816928,\n",
       "        964.77312242, 1822.05569985, 1096.8394612 ,  919.61918923,\n",
       "       1078.87724489, 1105.6266559 ,  875.44067923,  487.48615535,\n",
       "        536.54462703, 1096.39868999, 1098.32537536,  788.83673302,\n",
       "        723.6095071 ,  428.07387221, 1091.60768715, 1767.97658488,\n",
       "       1366.406416  ,  651.18514392,  757.51737548, 2453.43016645,\n",
       "        921.24833445, 1053.54086742,  989.98539005, 2648.45912932,\n",
       "        677.75227998, 1173.36427815, 1679.2695901 ,  942.81977649,\n",
       "       1113.44820904,  298.71456043,  957.10297066,  518.60017109,\n",
       "       1084.92133657, 1254.71181826, 1198.48443093,  762.14502384,\n",
       "       1114.29383049, 1129.42459583,  574.82053781, 1104.2540576 ,\n",
       "        213.49176608, 1061.94133146,  368.68693959, 2639.8028728 ,\n",
       "        728.44203959, 1858.58711956, 1355.32681486, 1801.24812248,\n",
       "        939.15272072,  899.81402896,  736.92606574,  539.4353032 ,\n",
       "       1961.24190906, 1369.15200275, 1115.67496441,  889.01479759,\n",
       "       1183.61189132, 1110.70840548,  748.38144804,  782.81207733,\n",
       "       1272.90243457,  630.66062051, 1341.3394823 , 1123.71123423,\n",
       "        869.39212776,  781.12889389, 1151.54890836, 2058.22505897,\n",
       "       1244.78980304, 1260.08426338, 1019.54316461, 2616.48017055,\n",
       "       1211.61975543,  836.88367107,  673.0042928 , 1127.27890869,\n",
       "       1276.23501251, 1213.32132255, 1108.54304036, 1125.46002926,\n",
       "        888.82867104, 2025.71793251,  475.73328292, 1586.69137392,\n",
       "        243.71915138,  811.56066324,  636.136612  ,  476.03919372,\n",
       "       1034.45050999,  868.0557975 , 1101.43040257, 1035.99672533,\n",
       "        331.46300832,  545.59951669, 1796.24398597, 1915.51024605,\n",
       "       1775.37716522,  840.75113993,  699.28891129, 1895.23722289,\n",
       "       1283.46959488, 1366.23412963, 5598.55507795,  818.09387121,\n",
       "       1229.4233878 ,  459.50249686,  835.8874443 , 1058.63711319,\n",
       "        548.824625  , 1546.59274736, 1802.38264645, 1516.18958387,\n",
       "       1234.12040656,  815.89810462,  759.29943372, 1080.61995165,\n",
       "        529.94103014,  775.3305029 , 2449.71537651,  851.00341226,\n",
       "        435.54270272,  586.956087  ,  605.7754999 , 1091.388723  ,\n",
       "       1267.13858913, 1849.58235698, 1856.45629545, 1008.71799243,\n",
       "        818.28158917, 3162.23354134, 1346.58147721,  665.66153821,\n",
       "       1742.64435136, 1553.44870606, 1474.88211474,  983.94891382,\n",
       "       1803.82513131, 2006.66334154, 2424.64448709, 1093.44288689,\n",
       "        323.96093974,  501.41366315, 1403.34655596, 1031.01337337,\n",
       "       1164.44552441,  604.09368088, 1220.61241709,  543.55435918,\n",
       "       1849.92002162, 1106.60768981, 1544.44853083, 1069.21998533,\n",
       "       1915.80009691, 1123.45646122,  349.61681848,  611.30734167,\n",
       "       1756.29941123,  872.76406146,  894.99988229,  649.07318292,\n",
       "        936.13460149,  885.61247318,  307.13731002, 1193.05990293,\n",
       "        856.61056636,  805.56133999,  503.82870906, 1184.65443875,\n",
       "       1040.15810792, 1160.40214024, 1113.40228303, 1923.98950815,\n",
       "        457.81314863, 1159.72402399, 1780.49661662, 1198.89504596,\n",
       "        374.78800047, 3141.03424802,  925.5448055 , 1094.75594527,\n",
       "       1312.0485742 ,  774.63560808, 1097.65536074, 1714.20873421,\n",
       "       1222.18717863,  456.4009495 ,  532.27732623,  631.0822386 ,\n",
       "       1439.38566181, 1773.31113188,  681.37826011,  644.16790812,\n",
       "       2070.54689178, 1067.43215329,  454.21787433, 1233.39476884,\n",
       "        829.89238725,  809.51296782, 1159.85144081, 1274.49941563,\n",
       "        851.02360326, 1247.43660635,  521.87310927,  745.85180446,\n",
       "       1202.21095312, 2612.63659216, 1968.64884995, 2177.05529892,\n",
       "        746.12403842,  497.16085006, 1776.00274474])"
      ]
     },
     "execution_count": 219,
     "metadata": {},
     "output_type": "execute_result"
    }
   ],
   "source": [
    "predictions_submit = modelo.predict(test_pred_copy)\n",
    "predictions_submit"
   ]
  },
  {
   "cell_type": "markdown",
   "metadata": {},
   "source": [
    "IMPORTANTE: APLICAR LO MISMO A ESTOS DATOS QUE HAYÁIS APLICADO A LOS DATOS DE ENTRENAMIENTO\n",
    "\n",
    "- SI EL ARRAY CON EL QUE HICISTEIS `.fit()` ERA DE 4 COLUMNAS, PARA `.predict()` DEBEN SER LAS MISMAS\n",
    "- SI AL ARRAY CON EL QUE HICISTEIS `.fit()` LO NORMALIZASTEIS, PARA `.predict()` DEBÉIS NORMALIZARLO\n",
    "- TODO IGUAL SALVO BORRAR FILAS, EL NÚMERO DE ROWS SE DEBE MANTENER EN ESTE SET, PUES LA PREDICCIÓN DEBE TENER 391 FILAS, SI O SI"
   ]
  },
  {
   "cell_type": "markdown",
   "metadata": {},
   "source": [
    "**Entonces, si al cargar los datos de train usé `index_col=0` para que utilizara la primera columna del conjunto de datos como índice, ¿tendré que hacerlo también para el conjunto `test.csv`?**"
   ]
  },
  {
   "cell_type": "code",
   "execution_count": null,
   "metadata": {},
   "outputs": [],
   "source": [
    "# ¿Qué opináis?\n",
    "# Sí"
   ]
  },
  {
   "cell_type": "markdown",
   "metadata": {},
   "source": [
    "![](https://www.tierraljelechu.com/web/img/wiki_up/1.996-SorpresaDto.-1-Red.jpg)"
   ]
  },
  {
   "cell_type": "markdown",
   "metadata": {},
   "source": [
    "### 3. AHORA puedo hacer la predicción que será lo que subirás a Kaggle. "
   ]
  },
  {
   "cell_type": "markdown",
   "metadata": {},
   "source": [
    "**¿Qué es lo que subirás a Kaggle?**"
   ]
  },
  {
   "cell_type": "code",
   "execution_count": 220,
   "metadata": {},
   "outputs": [
    {
     "data": {
      "text/plain": [
       "array([1184.6662247 ,  749.63436353,  460.86844627, 1122.94913441,\n",
       "        342.10140229,  590.75344232,  435.3371096 , 1831.86463752,\n",
       "       1735.6001092 , 1254.54605562,  994.15734214,  974.25356861,\n",
       "       1110.41589939,  936.0587005 ,  572.93775015, 1063.93486142,\n",
       "        934.91955911, 1951.44146341,  533.0607562 , 1168.27052681,\n",
       "       1180.5264641 ,  991.86291687,  581.22464698, 1004.86774688,\n",
       "        365.88796207, 1391.02900384,  878.72358532,  754.84676021,\n",
       "       1608.12230311, 1233.24892093,  851.7515829 , 1140.77147284,\n",
       "       1000.4441345 , 1171.10543682, 1180.79732988, 1206.25821911,\n",
       "       1162.07698643, 1445.18011476,  837.03083637, 1886.44813281,\n",
       "       1809.41366367, 1079.33213234,  493.42683502, 1588.32382286,\n",
       "        796.39510438, 1888.97370043, 1216.2984733 , 1733.32604139,\n",
       "       1031.56055824, 1753.2508967 ,  771.78882485,  617.33245666,\n",
       "       1078.23371095, 1058.7583788 ,  430.85430156,  804.13348991,\n",
       "       1073.45619412,  688.17285333, 1278.85016689, 1263.3631708 ,\n",
       "        488.99724926, 1203.01464724, 1137.89248237,  533.13247163,\n",
       "        873.15619275, 1122.99765271, 1768.5887189 , 1732.56614074,\n",
       "       1098.54360656,  783.14286099,  243.25017019, 1285.60972076,\n",
       "       3140.55094464, 1646.08215321, 1010.66936155,  831.37590318,\n",
       "        586.44325848, 2161.1173307 ,  986.20998431, 1215.83590531,\n",
       "        645.41038884, 1714.24104051, 1194.03750517, 1857.59633693,\n",
       "        999.54460977, 1109.68976774,  842.40750218, 1022.0378727 ,\n",
       "        549.88054616,  781.94145847, 1780.58037585,  969.88679184,\n",
       "        234.96337258, 2047.17517884, 1110.1260046 , 1278.49107696,\n",
       "       1180.93990413,  462.14578503,  511.58442477,  736.22448613,\n",
       "       1166.21614124,  809.62748914,  816.18466909,  717.92778636,\n",
       "       1789.83450287,  614.56654525, 2640.27251169, 1138.76207773,\n",
       "       2642.17743375, 1115.20149215, 1298.84635123,  981.34086248,\n",
       "       1299.84871734, 1696.57951936, 1355.43009005, 1557.66466988,\n",
       "        965.32232165, 2417.80887185,  901.95641987, 1301.1932289 ,\n",
       "       1032.51151507, 1271.51347747, 1839.08921672, 1242.44433264,\n",
       "        816.28150745, 1194.67892177,  338.91972898, 1115.76660773,\n",
       "        894.17810543, 1187.34197394,  554.29686099, 1107.01770243,\n",
       "       1183.62622706,  630.68735343,  990.24339717, 1846.29291951,\n",
       "       1560.37007782, 1694.93256121, 1826.26888691,  951.68058541,\n",
       "        914.55729252, 1205.62502439,  829.31134117, 1931.44527461,\n",
       "       1784.6718437 ,  466.15432189, 1823.66515119, 1168.01702641,\n",
       "       1064.62231376, 1137.02957114, 1767.73887279, 1224.97848788,\n",
       "       1798.50149644,  261.00507984, 1722.49453663, 1042.05952089,\n",
       "       1215.79953755,  911.13045015, 1065.60622009, 1448.68305705,\n",
       "       3858.31817499, 1218.78041044, 1076.59196444,  707.72704115,\n",
       "        949.20084246, 3200.82630537, 1194.6985424 , 1055.94642649,\n",
       "        921.55748885, 1056.45627653,  467.40651245,  855.32510278,\n",
       "        967.38947978,  833.03363485, 1872.36773907,  570.64406222,\n",
       "        949.22702831, 1770.33352733, 1312.5159173 ,  489.98816928,\n",
       "        964.77312242, 1822.05569985, 1096.8394612 ,  919.61918923,\n",
       "       1078.87724489, 1105.6266559 ,  875.44067923,  487.48615535,\n",
       "        536.54462703, 1096.39868999, 1098.32537536,  788.83673302,\n",
       "        723.6095071 ,  428.07387221, 1091.60768715, 1767.97658488,\n",
       "       1366.406416  ,  651.18514392,  757.51737548, 2453.43016645,\n",
       "        921.24833445, 1053.54086742,  989.98539005, 2648.45912932,\n",
       "        677.75227998, 1173.36427815, 1679.2695901 ,  942.81977649,\n",
       "       1113.44820904,  298.71456043,  957.10297066,  518.60017109,\n",
       "       1084.92133657, 1254.71181826, 1198.48443093,  762.14502384,\n",
       "       1114.29383049, 1129.42459583,  574.82053781, 1104.2540576 ,\n",
       "        213.49176608, 1061.94133146,  368.68693959, 2639.8028728 ,\n",
       "        728.44203959, 1858.58711956, 1355.32681486, 1801.24812248,\n",
       "        939.15272072,  899.81402896,  736.92606574,  539.4353032 ,\n",
       "       1961.24190906, 1369.15200275, 1115.67496441,  889.01479759,\n",
       "       1183.61189132, 1110.70840548,  748.38144804,  782.81207733,\n",
       "       1272.90243457,  630.66062051, 1341.3394823 , 1123.71123423,\n",
       "        869.39212776,  781.12889389, 1151.54890836, 2058.22505897,\n",
       "       1244.78980304, 1260.08426338, 1019.54316461, 2616.48017055,\n",
       "       1211.61975543,  836.88367107,  673.0042928 , 1127.27890869,\n",
       "       1276.23501251, 1213.32132255, 1108.54304036, 1125.46002926,\n",
       "        888.82867104, 2025.71793251,  475.73328292, 1586.69137392,\n",
       "        243.71915138,  811.56066324,  636.136612  ,  476.03919372,\n",
       "       1034.45050999,  868.0557975 , 1101.43040257, 1035.99672533,\n",
       "        331.46300832,  545.59951669, 1796.24398597, 1915.51024605,\n",
       "       1775.37716522,  840.75113993,  699.28891129, 1895.23722289,\n",
       "       1283.46959488, 1366.23412963, 5598.55507795,  818.09387121,\n",
       "       1229.4233878 ,  459.50249686,  835.8874443 , 1058.63711319,\n",
       "        548.824625  , 1546.59274736, 1802.38264645, 1516.18958387,\n",
       "       1234.12040656,  815.89810462,  759.29943372, 1080.61995165,\n",
       "        529.94103014,  775.3305029 , 2449.71537651,  851.00341226,\n",
       "        435.54270272,  586.956087  ,  605.7754999 , 1091.388723  ,\n",
       "       1267.13858913, 1849.58235698, 1856.45629545, 1008.71799243,\n",
       "        818.28158917, 3162.23354134, 1346.58147721,  665.66153821,\n",
       "       1742.64435136, 1553.44870606, 1474.88211474,  983.94891382,\n",
       "       1803.82513131, 2006.66334154, 2424.64448709, 1093.44288689,\n",
       "        323.96093974,  501.41366315, 1403.34655596, 1031.01337337,\n",
       "       1164.44552441,  604.09368088, 1220.61241709,  543.55435918,\n",
       "       1849.92002162, 1106.60768981, 1544.44853083, 1069.21998533,\n",
       "       1915.80009691, 1123.45646122,  349.61681848,  611.30734167,\n",
       "       1756.29941123,  872.76406146,  894.99988229,  649.07318292,\n",
       "        936.13460149,  885.61247318,  307.13731002, 1193.05990293,\n",
       "        856.61056636,  805.56133999,  503.82870906, 1184.65443875,\n",
       "       1040.15810792, 1160.40214024, 1113.40228303, 1923.98950815,\n",
       "        457.81314863, 1159.72402399, 1780.49661662, 1198.89504596,\n",
       "        374.78800047, 3141.03424802,  925.5448055 , 1094.75594527,\n",
       "       1312.0485742 ,  774.63560808, 1097.65536074, 1714.20873421,\n",
       "       1222.18717863,  456.4009495 ,  532.27732623,  631.0822386 ,\n",
       "       1439.38566181, 1773.31113188,  681.37826011,  644.16790812,\n",
       "       2070.54689178, 1067.43215329,  454.21787433, 1233.39476884,\n",
       "        829.89238725,  809.51296782, 1159.85144081, 1274.49941563,\n",
       "        851.02360326, 1247.43660635,  521.87310927,  745.85180446,\n",
       "       1202.21095312, 2612.63659216, 1968.64884995, 2177.05529892,\n",
       "        746.12403842,  497.16085006, 1776.00274474])"
      ]
     },
     "execution_count": 220,
     "metadata": {},
     "output_type": "execute_result"
    }
   ],
   "source": [
    "predictions_submit = modelo.predict(test_pred_copy)\n",
    "predictions_submit"
   ]
  },
  {
   "cell_type": "markdown",
   "metadata": {},
   "source": [
    "**¡PERO! Para subir a Kaggle la predicción, ésta tendrá que tener una forma específica y no valdrá otra.**\n",
    "\n",
    "En este caso, la **MISMA** forma que `sample_submission.csv`. "
   ]
  },
  {
   "cell_type": "code",
   "execution_count": 221,
   "metadata": {},
   "outputs": [],
   "source": [
    "sample = pd.read_csv(\"data/sample_submission.csv\")"
   ]
  },
  {
   "cell_type": "code",
   "execution_count": 222,
   "metadata": {},
   "outputs": [
    {
     "data": {
      "text/html": [
       "<div>\n",
       "<style scoped>\n",
       "    .dataframe tbody tr th:only-of-type {\n",
       "        vertical-align: middle;\n",
       "    }\n",
       "\n",
       "    .dataframe tbody tr th {\n",
       "        vertical-align: top;\n",
       "    }\n",
       "\n",
       "    .dataframe thead th {\n",
       "        text-align: right;\n",
       "    }\n",
       "</style>\n",
       "<table border=\"1\" class=\"dataframe\">\n",
       "  <thead>\n",
       "    <tr style=\"text-align: right;\">\n",
       "      <th></th>\n",
       "      <th>laptop_ID</th>\n",
       "      <th>Price_euros</th>\n",
       "    </tr>\n",
       "  </thead>\n",
       "  <tbody>\n",
       "    <tr>\n",
       "      <th>0</th>\n",
       "      <td>750</td>\n",
       "      <td>500</td>\n",
       "    </tr>\n",
       "    <tr>\n",
       "      <th>1</th>\n",
       "      <td>726</td>\n",
       "      <td>500</td>\n",
       "    </tr>\n",
       "    <tr>\n",
       "      <th>2</th>\n",
       "      <td>633</td>\n",
       "      <td>500</td>\n",
       "    </tr>\n",
       "    <tr>\n",
       "      <th>3</th>\n",
       "      <td>363</td>\n",
       "      <td>650</td>\n",
       "    </tr>\n",
       "    <tr>\n",
       "      <th>4</th>\n",
       "      <td>319</td>\n",
       "      <td>650</td>\n",
       "    </tr>\n",
       "  </tbody>\n",
       "</table>\n",
       "</div>"
      ],
      "text/plain": [
       "   laptop_ID  Price_euros\n",
       "0        750          500\n",
       "1        726          500\n",
       "2        633          500\n",
       "3        363          650\n",
       "4        319          650"
      ]
     },
     "execution_count": 222,
     "metadata": {},
     "output_type": "execute_result"
    }
   ],
   "source": [
    "sample.head()"
   ]
  },
  {
   "cell_type": "code",
   "execution_count": 223,
   "metadata": {},
   "outputs": [
    {
     "name": "stdout",
     "output_type": "stream",
     "text": [
      "<class 'pandas.core.frame.DataFrame'>\n",
      "RangeIndex: 391 entries, 0 to 390\n",
      "Data columns (total 2 columns):\n",
      " #   Column       Non-Null Count  Dtype\n",
      "---  ------       --------------  -----\n",
      " 0   laptop_ID    391 non-null    int64\n",
      " 1   Price_euros  391 non-null    int64\n",
      "dtypes: int64(2)\n",
      "memory usage: 6.2 KB\n"
     ]
    }
   ],
   "source": [
    "sample.info()"
   ]
  },
  {
   "cell_type": "code",
   "execution_count": null,
   "metadata": {},
   "outputs": [],
   "source": []
  },
  {
   "cell_type": "code",
   "execution_count": 224,
   "metadata": {},
   "outputs": [
    {
     "data": {
      "text/plain": [
       "(391, 2)"
      ]
     },
     "execution_count": 224,
     "metadata": {},
     "output_type": "execute_result"
    }
   ],
   "source": [
    "sample.shape"
   ]
  },
  {
   "cell_type": "markdown",
   "metadata": {},
   "source": [
    "### 4. Mete tus predicciones en un dataframe. \n",
    "\n",
    "En este caso, la **MISMA** forma que `sample_submission.csv`. "
   ]
  },
  {
   "cell_type": "code",
   "execution_count": 225,
   "metadata": {},
   "outputs": [],
   "source": [
    "submission = pd.DataFrame({\"laptop_ID\": sample['laptop_ID'], \"Price_euros\": predictions_submit})"
   ]
  },
  {
   "cell_type": "code",
   "execution_count": 226,
   "metadata": {},
   "outputs": [
    {
     "data": {
      "text/html": [
       "<div>\n",
       "<style scoped>\n",
       "    .dataframe tbody tr th:only-of-type {\n",
       "        vertical-align: middle;\n",
       "    }\n",
       "\n",
       "    .dataframe tbody tr th {\n",
       "        vertical-align: top;\n",
       "    }\n",
       "\n",
       "    .dataframe thead th {\n",
       "        text-align: right;\n",
       "    }\n",
       "</style>\n",
       "<table border=\"1\" class=\"dataframe\">\n",
       "  <thead>\n",
       "    <tr style=\"text-align: right;\">\n",
       "      <th></th>\n",
       "      <th>laptop_ID</th>\n",
       "      <th>Price_euros</th>\n",
       "    </tr>\n",
       "  </thead>\n",
       "  <tbody>\n",
       "    <tr>\n",
       "      <th>0</th>\n",
       "      <td>750</td>\n",
       "      <td>1184.666225</td>\n",
       "    </tr>\n",
       "    <tr>\n",
       "      <th>1</th>\n",
       "      <td>726</td>\n",
       "      <td>749.634364</td>\n",
       "    </tr>\n",
       "    <tr>\n",
       "      <th>2</th>\n",
       "      <td>633</td>\n",
       "      <td>460.868446</td>\n",
       "    </tr>\n",
       "    <tr>\n",
       "      <th>3</th>\n",
       "      <td>363</td>\n",
       "      <td>1122.949134</td>\n",
       "    </tr>\n",
       "    <tr>\n",
       "      <th>4</th>\n",
       "      <td>319</td>\n",
       "      <td>342.101402</td>\n",
       "    </tr>\n",
       "  </tbody>\n",
       "</table>\n",
       "</div>"
      ],
      "text/plain": [
       "   laptop_ID  Price_euros\n",
       "0        750  1184.666225\n",
       "1        726   749.634364\n",
       "2        633   460.868446\n",
       "3        363  1122.949134\n",
       "4        319   342.101402"
      ]
     },
     "execution_count": 226,
     "metadata": {},
     "output_type": "execute_result"
    }
   ],
   "source": [
    "submission.head()"
   ]
  },
  {
   "cell_type": "code",
   "execution_count": 227,
   "metadata": {},
   "outputs": [
    {
     "data": {
      "text/plain": [
       "(391, 2)"
      ]
     },
     "execution_count": 227,
     "metadata": {},
     "output_type": "execute_result"
    }
   ],
   "source": [
    "submission.shape"
   ]
  },
  {
   "cell_type": "markdown",
   "metadata": {},
   "source": [
    "### 5. Pásale el CHEQUEATOR para comprobar que efectivamente está listo para subir a Kaggle."
   ]
  },
  {
   "cell_type": "code",
   "execution_count": 228,
   "metadata": {},
   "outputs": [],
   "source": [
    "def chequeator(df_to_submit):\n",
    "    \"\"\"\n",
    "    Esta función se asegura de que tu submission tenga la forma requerida por Kaggle.\n",
    "    \n",
    "    Si es así, se guardará el dataframe en un `csv` y estará listo para subir a Kaggle.\n",
    "    \n",
    "    Si no, LEE EL MENSAJE Y HAZLE CASO.\n",
    "    \n",
    "    Si aún no:\n",
    "    - apaga tu ordenador, \n",
    "    - date una vuelta, \n",
    "    - enciendelo otra vez, \n",
    "    - abre este notebook y \n",
    "    - leelo todo de nuevo. \n",
    "    Todos nos merecemos una segunda oportunidad. También tú.\n",
    "    \"\"\"\n",
    "    if df_to_submit.shape == sample.shape:\n",
    "        if df_to_submit.columns.all() == sample.columns.all():\n",
    "            if df_to_submit.laptop_ID.all() == sample.laptop_ID.all():\n",
    "                print(\"You're ready to submit!\")\n",
    "                submission.to_csv(\"submission.csv\", index = False) #muy importante el index = False\n",
    "                urllib.request.urlretrieve(\"https://i.kym-cdn.com/photos/images/facebook/000/747/556/27a.jpg\", \"gfg.png\")     \n",
    "                img = Image.open(\"gfg.png\")\n",
    "                img.show()   \n",
    "            else:\n",
    "                print(\"Check the ids and try again\")\n",
    "        else:\n",
    "            print(\"Check the names of the columns and try again\")\n",
    "    else:\n",
    "        print(\"Check the number of rows and/or columns and try again\")\n",
    "        print(\"\\nMensaje secreto de Clara: No me puedo creer que después de todo este notebook hayas hecho algún cambio en las filas de `diamonds_test.csv`. Lloro.\")\n"
   ]
  },
  {
   "cell_type": "code",
   "execution_count": 229,
   "metadata": {},
   "outputs": [
    {
     "name": "stdout",
     "output_type": "stream",
     "text": [
      "You're ready to submit!\n"
     ]
    }
   ],
   "source": [
    "chequeator(submission)"
   ]
  },
  {
   "cell_type": "code",
   "execution_count": null,
   "metadata": {},
   "outputs": [],
   "source": []
  }
 ],
 "metadata": {
  "kernelspec": {
   "display_name": "Python 3",
   "language": "python",
   "name": "python3"
  },
  "language_info": {
   "codemirror_mode": {
    "name": "ipython",
    "version": 3
   },
   "file_extension": ".py",
   "mimetype": "text/x-python",
   "name": "python",
   "nbconvert_exporter": "python",
   "pygments_lexer": "ipython3",
   "version": "3.7.9"
  }
 },
 "nbformat": 4,
 "nbformat_minor": 4
}
